{
 "cells": [
  {
   "cell_type": "markdown",
   "id": "4dee0a8f",
   "metadata": {},
   "source": [
    "# Numerical Methods For Ordinary Differential Equations\n",
    "\n",
    "References: \n",
    "> 1. Chasnov, J. R. (2012). Numerical methods. Hong Kong University of Science and Technology. https://www.math.hkust.edu.hk/~machas/numerical-methods.pdf\n",
    "> 2. Liu, J., Spiegel, M. R. (1999). Mathematical Handbook of Formulas and Tables. United Kingdom: McGraw-Hill.\n"
   ]
  },
  {
   "cell_type": "markdown",
   "id": "8c639f65",
   "metadata": {},
   "source": [
    "Here we give methods to solve the following initial-value problem of an ordinary differential equation:\n",
    "\n",
    "$$\n",
    "\\tag{1}\n",
    "\\left\\{\n",
    "\\begin{aligned}\n",
    "\\frac{dx}{dt} &= f(t,x) \\\\\n",
    "x(t_0) &= x_0\n",
    "\\end{aligned}\n",
    "\\right.\n",
    "$$\n",
    "\n",
    "The methods will use a computational grid:\n",
    "\n",
    "$$\n",
    "\\tag{2}\n",
    "t_n = t_0 + nh\n",
    "$$\n",
    "where $h$ is the grid size.\n",
    "\n"
   ]
  },
  {
   "cell_type": "markdown",
   "id": "01e097f4",
   "metadata": {},
   "source": [
    "## Example\n",
    "\n",
    "Consider $f(t,x)=rx(K-x)$, with the following parameters: "
   ]
  },
  {
   "cell_type": "code",
   "execution_count": null,
   "id": "03fdc15c",
   "metadata": {
    "vscode": {
     "languageId": "sage"
    }
   },
   "outputs": [],
   "source": [
    "r = 0.15\n",
    "K = 100\n",
    "t0 = 0\n",
    "tf = 1\n",
    "x0 = 1\n",
    "n = 10\n",
    "step_size =  (tf-t0)/n\n",
    "step_size"
   ]
  },
  {
   "cell_type": "code",
   "execution_count": null,
   "id": "fa7e499b",
   "metadata": {
    "vscode": {
     "languageId": "sage"
    }
   },
   "outputs": [],
   "source": [
    "t = var('t')\n",
    "\n",
    "x = function('x')(t)\n",
    "\n",
    "ode = x.diff(t) == r*x*(K-x) \n",
    "\n",
    "solution = desolve(ode, dvar=x, ivar=t, ics=[t0,x0])\n",
    "\n",
    "solution"
   ]
  },
  {
   "cell_type": "code",
   "execution_count": null,
   "id": "9b6cc4dd",
   "metadata": {
    "vscode": {
     "languageId": "sage"
    }
   },
   "outputs": [],
   "source": [
    "u = var('u')\n",
    "solution = solution.subs({x: u})\n",
    "solution "
   ]
  },
  {
   "cell_type": "code",
   "execution_count": null,
   "id": "92dc8798",
   "metadata": {
    "vscode": {
     "languageId": "sage"
    }
   },
   "outputs": [],
   "source": [
    "solution.solve(u, to_poly_solve=True)"
   ]
  },
  {
   "cell_type": "code",
   "execution_count": null,
   "id": "b83b69cf",
   "metadata": {
    "vscode": {
     "languageId": "sage"
    }
   },
   "outputs": [],
   "source": [
    "x_exact = solution.solve(u, to_poly_solve=True)[0].rhs()\n",
    "x_exact"
   ]
  },
  {
   "cell_type": "code",
   "execution_count": null,
   "id": "348a80bf",
   "metadata": {
    "vscode": {
     "languageId": "sage"
    }
   },
   "outputs": [],
   "source": [
    "custom_grid = [t0 + i*step_size for i in range(n)]\n",
    "exact_solution = [[_t.n(), x_exact(t=_t).n()] for _t in custom_grid]"
   ]
  },
  {
   "cell_type": "code",
   "execution_count": null,
   "id": "e6e0e226",
   "metadata": {
    "vscode": {
     "languageId": "sage"
    }
   },
   "outputs": [],
   "source": [
    "t,x = var('t x')\n",
    "numerical_solution = desolve_rk4( r*x*(K-x), x, ivar = t, ics=[t0,x0], end_points=tf, step=step_size)\n",
    "sage_solution = list_plot(exact_solution, plotjoined=True, axes_labels=['$t$', '$x(t)$'], gridlines=True, alpha=0.5, color=\"green\")\n",
    "sage_solution += list_plot(numerical_solution, plotjoined=True, alpha=0.5, color=\"red\", linestyle=\":\")\n",
    "sage_solution.show()"
   ]
  },
  {
   "cell_type": "markdown",
   "id": "0e6f54a9",
   "metadata": {},
   "source": [
    "### Euler Method: Manual Reproduction of the Code\n",
    "\n",
    "We consider the ODE:\n",
    "\n",
    "$$\n",
    "\\frac{dx}{dt} = 0.15\\,x(100 - x), \\quad x(0) = 1\n",
    "$$\n",
    "\n",
    "with parameters:\n",
    "\n",
    "- $r = 0.15$\n",
    "- $K = 100$\n",
    "- $t_0 = 0$, $t_f = 1$\n",
    "- $x_0 = 1$\n",
    "- $n = 10$, $h = \\frac{1 - 0}{10} = 0.1$\n",
    "\n",
    "Euler's method iterates:\n",
    "\n",
    "$$\n",
    "x_{n+1} = x_n + h \\cdot f(t_n, x_n)\n",
    "\\quad \\text{where} \\quad f(t, x) = 0.15\\,x(100 - x)\n",
    "$$\n",
    "\n",
    "#### Iteration Table\n",
    "\n",
    "| Step $n$ | $t_n$ | $x_n$ | $f(t_n, x_n)$         | $x_{n+1} = x_n + h f(t_n, x_n)$ |\n",
    "|-------------|-----------|-----------|----------------------------|-------------------------------------|\n",
    "| 0           | 0.0       | 1.000     | 14.850                     | 2.485                               |\n",
    "| 1           | 0.1       | 2.485     | 36.3076                    | 6.116                               |\n",
    "| 2           | 0.2       | 6.116     | 85.9874                    | 14.714                              |\n",
    "| 3           | 0.3       | 14.714    | 188.442                    | 33.558                              |\n",
    "| 4           | 0.4       | 33.558    | 335.419                    | 67.100                              |\n",
    "| 5           | 0.5       | 67.100    | 329.207                    | 100.021                             |\n",
    "| 6           | 0.6       | 100.021   | -0.315                     | 99.990                              |\n",
    "| 7           | 0.7       | 99.990    | 0.149                      | 100.005                             |\n",
    "| 8           | 0.8       | 100.005   | -0.075                     | 99.998                              |\n",
    "| 9           | 0.9       | 99.998    | 0.003                      | 100.000                             |\n",
    "\n"
   ]
  },
  {
   "cell_type": "code",
   "execution_count": null,
   "id": "a2c80fc9",
   "metadata": {
    "vscode": {
     "languageId": "sage"
    }
   },
   "outputs": [],
   "source": [
    "def euler_method(f, x0, t0, t_end, h):\n",
    "    \"\"\"\n",
    "    Implements the Euler method for solving x' = f(t, x)\n",
    "\n",
    "    Parameters:\n",
    "        f: a function of (t, x)\n",
    "        x0: initial value x(t0)\n",
    "        t0: initial time\n",
    "        t_end: final time\n",
    "        h: step size\n",
    "\n",
    "    Returns:\n",
    "        A list of (t, x) points\n",
    "    \"\"\"\n",
    "    steps = int((t_end - t0) / h)\n",
    "    t_vals = [t0]\n",
    "    x_vals = [x0]\n",
    "\n",
    "    t = t0\n",
    "    x = x0\n",
    "\n",
    "    for _ in range(steps):\n",
    "        x = x + h * f(t, x)\n",
    "        t = t + h\n",
    "        t_vals.append(t)\n",
    "        x_vals.append(x)\n",
    "\n",
    "    return list(zip(t_vals, x_vals))"
   ]
  },
  {
   "cell_type": "code",
   "execution_count": null,
   "id": "7d853aa6",
   "metadata": {
    "vscode": {
     "languageId": "sage"
    }
   },
   "outputs": [],
   "source": [
    "t, x = var('t x')\n",
    "f(t, x) = r * x * (K - x)  # logistic equation\n",
    "\n",
    "solution = euler_method(f, x0=x0, t0=t0, t_end=tf, h=step_size)\n",
    "\n",
    "# Plot\n",
    "euler_solution = list_plot(solution, plotjoined=True, axes_labels=['$t$', '$x(t)$'], gridlines=True, linestyle=\"-.\")\n",
    "compare_euler = sage_solution + euler_solution\n",
    "compare_euler.plot()\n",
    "\n"
   ]
  },
  {
   "cell_type": "code",
   "execution_count": null,
   "id": "73d9f6a6",
   "metadata": {
    "vscode": {
     "languageId": "sage"
    }
   },
   "outputs": [],
   "source": [
    "def modified_euler_method(f, x0, t0, t_end, h):\n",
    "    \"\"\"\n",
    "    Implements the Modified Euler method (Heun's Method) for solving x' = f(t, x)\n",
    "\n",
    "    Parameters:\n",
    "        f: a function of (t, x)\n",
    "        x0: initial value x(t0)\n",
    "        t0: initial time\n",
    "        t_end: final time\n",
    "        h: step size\n",
    "\n",
    "    Returns:\n",
    "        A list of (t, x) points\n",
    "    \"\"\"\n",
    "    steps = int((t_end - t0) / h)\n",
    "    t_vals = [t0]\n",
    "    x_vals = [x0]\n",
    "\n",
    "    t = t0\n",
    "    x = x0\n",
    "\n",
    "    for _ in range(steps):\n",
    "        k1 = h*f(t, x)\n",
    "        k2 = h*f(t + h, x + k1)\n",
    "        x = x + 1/2 * (k1 + k2)\n",
    "        t = t + h\n",
    "        t_vals.append(t)\n",
    "        x_vals.append(x)\n",
    "\n",
    "    return list(zip(t_vals, x_vals))\n"
   ]
  },
  {
   "cell_type": "code",
   "execution_count": null,
   "id": "5e3be484",
   "metadata": {
    "vscode": {
     "languageId": "sage"
    }
   },
   "outputs": [],
   "source": [
    "solution = modified_euler_method(f, x0=x0, t0=t0, t_end=tf, h=step_size)\n",
    "\n",
    "# Plot the numerical approximation\n",
    "heun_solution = list_plot(solution, plotjoined=True, axes_labels=['$t$', '$x(t)$'], gridlines=True, linestyle=\"-.\")\n",
    "compare_heun = sage_solution + heun_solution\n",
    "compare_heun.plot()\n"
   ]
  },
  {
   "cell_type": "code",
   "execution_count": null,
   "id": "13d385a1",
   "metadata": {
    "vscode": {
     "languageId": "sage"
    }
   },
   "outputs": [],
   "source": [
    "def rk2_general_form(f, x0, t0, t_end, h=0.01,\n",
    "                       alpha=1/2, beta=1/2, a=0, b=1):\n",
    "    \"\"\"\n",
    "    General second-order Runge-Kutta method using parameters alpha, beta, a, b.\n",
    "\n",
    "    Solves x' = f(t, x) over [t0, t_end] with initial condition x(t0) = x0.\n",
    "\n",
    "    Parameters:\n",
    "        f: right-hand side function f(t, x)\n",
    "        x0: initial condition x(t0)\n",
    "        t0: initial time\n",
    "        t_end: final time\n",
    "        h: time step size\n",
    "        alpha: time increment coefficient for k2\n",
    "        beta: slope coefficient for k2\n",
    "        a, b: weights for k1 and k2 in the update\n",
    "\n",
    "    Returns:\n",
    "        List of (t, x) points approximating the solution\n",
    "    \"\"\"\n",
    "    steps = int((t_end - t0) / h)\n",
    "    t_vals = [t0]\n",
    "    x_vals = [x0]\n",
    "\n",
    "    t = t0\n",
    "    x = x0\n",
    "\n",
    "    for _ in range(steps):\n",
    "        k1 = h * f(t, x)\n",
    "        k2 = h * f(t + alpha * h, x + beta * k1)\n",
    "        x = x + a * k1 + b * k2\n",
    "        t = t + h\n",
    "        t_vals.append(t)\n",
    "        x_vals.append(x)\n",
    "\n",
    "    return list(zip(t_vals, x_vals))\n"
   ]
  },
  {
   "cell_type": "code",
   "execution_count": null,
   "id": "e611b366",
   "metadata": {
    "vscode": {
     "languageId": "sage"
    }
   },
   "outputs": [],
   "source": [
    "sol = rk2_general_form(f, x0=x0, t0=t0, t_end=tf, h=step_size)\n",
    "\n",
    "heun_solution  = list_plot(sol, plotjoined=True, axes_labels=['$t$', '$x(t)$'], gridlines=True, linestyle=\"-.\")\n",
    "compare_heun = heun_solution  + sage_solution\n",
    "compare_heun.plot()\n",
    "\n"
   ]
  },
  {
   "cell_type": "code",
   "execution_count": null,
   "id": "f03101de",
   "metadata": {
    "vscode": {
     "languageId": "sage"
    }
   },
   "outputs": [],
   "source": [
    "sol = rk2_general_form(f, x0=x0, t0=t0, t_end=tf, h=step_size, alpha=3/4, beta=3/4, a=1/3, b=2/3)\n",
    "\n",
    "ralston_solution  = list_plot(sol, plotjoined=True, axes_labels=['$t$', '$x(t)$'], gridlines=True, linestyle=\"-.\")\n",
    "compare_heun = ralston_solution  + sage_solution\n",
    "compare_heun.plot()\n"
   ]
  },
  {
   "cell_type": "code",
   "execution_count": null,
   "id": "5d72713f",
   "metadata": {
    "vscode": {
     "languageId": "sage"
    }
   },
   "outputs": [],
   "source": [
    "def rk4(f, x0, t0, t_end, h=0.01):\n",
    "    \"\"\"\n",
    "    Fourth-order Runge-Kutta method as specified in the image.\n",
    "    \n",
    "    Solves x' = f(t, x) over [t0, t_end] with initial condition x(t0) = x0.\n",
    "    \n",
    "    Parameters:\n",
    "        f: right-hand side function f(t, x)\n",
    "        x0: initial condition x(t0)\n",
    "        t0: initial time\n",
    "        t_end: final time\n",
    "        h: time step size \n",
    "        \n",
    "    Returns:\n",
    "        List of (t, x) points approximating the solution\n",
    "    \"\"\"\n",
    "    steps = int((t_end - t0) / h)\n",
    "    t_vals = [t0]\n",
    "    x_vals = [x0]\n",
    "    \n",
    "    t = t0\n",
    "    x = x0\n",
    "    \n",
    "    for _ in range(steps):\n",
    "        # Calculate the four k values according to the formulas\n",
    "        k1 = h * f(t, x)\n",
    "        k2 = h * f(t + 0.5 * h, x + 0.5 * k1)\n",
    "        k3 = h * f(t + 0.5 * h, x + 0.5 * k2)\n",
    "        k4 = h * f(t + h, x + k3)\n",
    "        \n",
    "        # Update x using the weighted average\n",
    "        x = x + (1/6) * (k1 + 2*k2 + 2*k3 + k4)\n",
    "        \n",
    "        # Increment time\n",
    "        t = t + h\n",
    "        \n",
    "        # Store results\n",
    "        t_vals.append(t)\n",
    "        x_vals.append(x)\n",
    "    \n",
    "    return list(zip(t_vals, x_vals))"
   ]
  },
  {
   "cell_type": "code",
   "execution_count": null,
   "id": "e20654cd",
   "metadata": {
    "vscode": {
     "languageId": "sage"
    }
   },
   "outputs": [],
   "source": [
    "sol = rk4(f, x0=x0, t0=t0, t_end=tf, h=step_size)\n",
    "\n",
    "ralston_solution  = list_plot(sol, plotjoined=True, axes_labels=['$t$', '$x(t)$'], gridlines=True, linestyle=\"-.\")\n",
    "compare_heun = ralston_solution  + sage_solution\n",
    "compare_heun.plot()"
   ]
  }
 ],
 "metadata": {
  "kernelspec": {
   "display_name": "SageMath 9.5",
   "language": "sage",
   "name": "sagemath"
  }
 },
 "nbformat": 4,
 "nbformat_minor": 5
}
