{
 "cells": [
  {
   "cell_type": "markdown",
   "metadata": {},
   "source": [
    "# Numerical Anlysis for Non-Linear Optimization \n"
   ]
  },
  {
   "cell_type": "markdown",
   "metadata": {},
   "source": [
    "## First-Order Linear Equations\n",
    "\n",
    "In the next week, we will study equation of the form: \n",
    "\n",
    "$$ \n",
    "x'(t) = f(t, x(t))\n",
    "$$\n",
    "\n",
    "where $f: (a,b) \\times (c,d) \\to \\mathbb{B}$ is continuous, $-\\infty \\leq a<b \\leq \\infty$ and $-\\infty \\leq c,d \\leq \\infty$."
   ]
  },
  {
   "cell_type": "markdown",
   "metadata": {},
   "source": [
    "\n",
    "### Variation of Constants Formula \n",
    "\n",
    "Consider\n",
    "\n",
    "$$\n",
    "\\begin{align}\n",
    "x' &= p(t)x+q(t) \\\\\n",
    "x(t_0) &= x_0\n",
    "\\end{align}\n",
    "$$\n",
    "\n",
    "where $p,q:(a,b) \\to \\mathbb{R}$ are continuous functions, $-\\infty \\leq a < b\n",
    "\\leq \\infty$, $t_0 \\in (a,b)$ and $x_0\\in \\mathbb{R}$. \n",
    "\n",
    "Then for $t\\in(a,b)$, the solution of the above equation is given by\n",
    "\n",
    "$$\n",
    "x(t) = e^{\\int_{t_0}^{t} p(\\tau)\\, d\\tau} x_0 + e^{\\int_{t_0}^{t} p(\\tau)\\, d\\tau} \\int_{t_0}^{t} e^{-\\int_{t_0}^{s} p(\\tau)\\, d\\tau} q(s)\\, ds,\n",
    "\n",
    "$$"
   ]
  },
  {
   "cell_type": "markdown",
   "metadata": {},
   "source": [
    "#### Example\n",
    "\n",
    "COnsider $p(\\tau) = \\tau$ and $q(\\tau) = \\sin(\\tau)$. First, let's write a function to compute the solution of the above equation.\n"
   ]
  },
  {
   "cell_type": "code",
   "execution_count": 1,
   "metadata": {
    "vscode": {
     "languageId": "sage"
    }
   },
   "outputs": [],
   "source": [
    "def phi(p, q, x0, t0, t):\n",
    "    tau, s = var('tau s')\n",
    "    # Compute the exponential integrating factor\n",
    "    exp_int_p = exp(integrate(p(tau), (tau, t0, t)))\n",
    "    \n",
    "    # First term\n",
    "    term1 = exp_int_p * x0\n",
    "    \n",
    "    # Inner integral inside the second term\n",
    "    inner_exp = exp(-integrate(p(tau), (tau, t0, s)))\n",
    "    inner_integrand = inner_exp * q(s)\n",
    "    inner_integral = integrate(inner_integrand, (s, t0, t))\n",
    "    \n",
    "    # Second term\n",
    "    term2 = exp_int_p * inner_integral\n",
    "    \n",
    "    return term1 + term2\n"
   ]
  },
  {
   "cell_type": "markdown",
   "metadata": {},
   "source": [
    "Then, let's define the adeuacte parameters:"
   ]
  },
  {
   "cell_type": "code",
   "execution_count": 16,
   "metadata": {
    "vscode": {
     "languageId": "sage"
    }
   },
   "outputs": [
    {
     "name": "stdout",
     "output_type": "stream",
     "text": [
      "20*t*e^(-2*t) - 30*e^(-2*t) + 70\n"
     ]
    }
   ],
   "source": [
    "t, t0 = var('t t0')\n",
    "\n",
    "assume( t0 > 0)\n",
    "assume(t > t0)\n",
    "\n",
    "p(t) = -2\n",
    "q(t) = 140 + 20 * exp(-2*t)\n",
    "x0 = 40\n",
    "x = phi(p, q, x0, 0, t)\n",
    "print(x.expand())"
   ]
  },
  {
   "cell_type": "markdown",
   "metadata": {
    "vscode": {
     "languageId": "sage"
    }
   },
   "source": [
    "Finally, let's verify that the given function is a solution of the initial value problem."
   ]
  },
  {
   "cell_type": "code",
   "execution_count": 11,
   "metadata": {
    "vscode": {
     "languageId": "sage"
    }
   },
   "outputs": [
    {
     "data": {
      "text/plain": [
       "-40*t*e^(-2*t) + 80*e^(-2*t)"
      ]
     },
     "execution_count": 11,
     "metadata": {},
     "output_type": "execute_result"
    }
   ],
   "source": [
    "diff(x,t).expand()"
   ]
  },
  {
   "cell_type": "code",
   "execution_count": 12,
   "metadata": {
    "vscode": {
     "languageId": "sage"
    }
   },
   "outputs": [
    {
     "data": {
      "text/plain": [
       "-40*t*e^(-2*t) + 80*e^(-2*t)"
      ]
     },
     "execution_count": 12,
     "metadata": {},
     "output_type": "execute_result"
    }
   ],
   "source": [
    "(p(t)*x + q(t)).expand()"
   ]
  },
  {
   "cell_type": "code",
   "execution_count": 13,
   "metadata": {
    "vscode": {
     "languageId": "sage"
    }
   },
   "outputs": [
    {
     "data": {
      "text/plain": [
       "40"
      ]
     },
     "execution_count": 13,
     "metadata": {},
     "output_type": "execute_result"
    }
   ],
   "source": [
    "x(t=0)"
   ]
  },
  {
   "cell_type": "markdown",
   "metadata": {},
   "source": [
    "### Autonomous Equations\n",
    "\n",
    "The equation $x'=f(x)$ is called autonomous because $f$ doesn't depends explicitly on $t$. We assume that $f:\\mathbb{R} \\to \\mathbb{R}$ is continuously differentiable function. "
   ]
  },
  {
   "cell_type": "code",
   "execution_count": null,
   "metadata": {
    "vscode": {
     "languageId": "sage"
    }
   },
   "outputs": [],
   "source": []
  }
 ],
 "metadata": {
  "kernelspec": {
   "display_name": "SageMath 9.5",
   "language": "sage",
   "name": "sagemath"
  },
  "language_info": {
   "codemirror_mode": {
    "name": "ipython",
    "version": 3
   },
   "file_extension": ".py",
   "mimetype": "text/x-python",
   "name": "python",
   "nbconvert_exporter": "python",
   "pygments_lexer": "ipython3",
   "version": "3.10.12"
  }
 },
 "nbformat": 4,
 "nbformat_minor": 2
}
