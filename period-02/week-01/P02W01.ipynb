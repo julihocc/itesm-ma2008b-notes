{
 "cells": [
  {
   "cell_type": "markdown",
   "metadata": {},
   "source": [
    "# Numerical Anlysis for Non-Linear Optimization \n"
   ]
  },
  {
   "cell_type": "markdown",
   "metadata": {},
   "source": [
    "## First-Order Linear Equations\n",
    "\n",
    "In the next week, we will study equation of the form: \n",
    "\n",
    "$$ \n",
    "x'(t) = f(t, x(t))\n",
    "$$\n",
    "\n",
    "where $f: (a,b) \\times (c,d) \\to \\mathbb{B}$ is continuous, $-\\infty \\leq a<b \\leq \\infty$ and $-\\infty \\leq c,d \\leq \\infty$."
   ]
  },
  {
   "cell_type": "markdown",
   "metadata": {},
   "source": [
    "\n",
    "### Variation of Constants Formula \n",
    "\n",
    "Consider\n",
    "\n",
    "$$\n",
    "\\begin{align}\n",
    "x' &= p(t)x+q(t) \\\\\n",
    "x(t_0) &= x_0\n",
    "\\end{align}\n",
    "$$\n",
    "\n",
    "where $p,q:(a,b) \\to \\mathbb{R}$ are continuous functions, $-\\infty \\leq a < b\n",
    "\\leq \\infty$, $t_0 \\in (a,b)$ and $x_0\\in \\mathbb{R}$. \n",
    "\n",
    "Then for $t\\in(a,b)$, the solution of the above equation is given by\n",
    "\n",
    "$$\n",
    "x(t) = e^{\\int_{t_0}^{t} p(\\tau)\\, d\\tau} x_0 + e^{\\int_{t_0}^{t} p(\\tau)\\, d\\tau} \\int_{t_0}^{t} e^{-\\int_{t_0}^{s} p(\\tau)\\, d\\tau} q(s)\\, ds,\n",
    "\n",
    "$$"
   ]
  },
  {
   "cell_type": "markdown",
   "metadata": {},
   "source": [
    "***Example***\n",
    "\n",
    "COnsider $p(\\tau) = \\tau$ and $q(\\tau) = \\sin(\\tau)$. First, let's write a function to compute the solution of the above equation.\n"
   ]
  },
  {
   "cell_type": "code",
   "execution_count": 28,
   "metadata": {
    "vscode": {
     "languageId": "sage"
    }
   },
   "outputs": [],
   "source": [
    "def phi(p, q, x0, t0, t):\n",
    "    tau, s = var('tau s')\n",
    "    # Compute the exponential integrating factor\n",
    "    exp_int_p = exp(integrate(p(tau), (tau, t0, t)))\n",
    "    \n",
    "    # First term\n",
    "    term1 = exp_int_p * x0\n",
    "    \n",
    "    # Inner integral inside the second term\n",
    "    inner_exp = exp(-integrate(p(tau), (tau, t0, s)))\n",
    "    inner_integrand = inner_exp * q(s)\n",
    "    inner_integral = integrate(inner_integrand, (s, t0, t))\n",
    "    \n",
    "    # Second term\n",
    "    term2 = exp_int_p * inner_integral\n",
    "    \n",
    "    return term1 + term2\n"
   ]
  },
  {
   "cell_type": "markdown",
   "metadata": {},
   "source": [
    "Then, let's define the adeuacte parameters:"
   ]
  },
  {
   "cell_type": "code",
   "execution_count": 29,
   "metadata": {
    "vscode": {
     "languageId": "sage"
    }
   },
   "outputs": [
    {
     "name": "stdout",
     "output_type": "stream",
     "text": [
      "20*t*e^(-2*t) - 30*e^(-2*t) + 70\n"
     ]
    }
   ],
   "source": [
    "t, t0 = var('t t0')\n",
    "\n",
    "assume( t0 > 0)\n",
    "assume(t > t0)\n",
    "\n",
    "p(t) = -2\n",
    "q(t) = 140 + 20 * exp(-2*t)\n",
    "x0 = 40\n",
    "x = phi(p, q, x0, 0, t)\n",
    "print(x.expand())"
   ]
  },
  {
   "cell_type": "markdown",
   "metadata": {
    "vscode": {
     "languageId": "sage"
    }
   },
   "source": [
    "Finally, let's verify that the given function is a solution of the initial value problem."
   ]
  },
  {
   "cell_type": "code",
   "execution_count": 30,
   "metadata": {
    "vscode": {
     "languageId": "sage"
    }
   },
   "outputs": [
    {
     "data": {
      "text/plain": [
       "-40*t*e^(-2*t) + 80*e^(-2*t)"
      ]
     },
     "execution_count": 30,
     "metadata": {},
     "output_type": "execute_result"
    }
   ],
   "source": [
    "diff(x,t).expand()"
   ]
  },
  {
   "cell_type": "code",
   "execution_count": 31,
   "metadata": {
    "vscode": {
     "languageId": "sage"
    }
   },
   "outputs": [
    {
     "data": {
      "text/plain": [
       "-40*t*e^(-2*t) + 80*e^(-2*t)"
      ]
     },
     "execution_count": 31,
     "metadata": {},
     "output_type": "execute_result"
    }
   ],
   "source": [
    "(p(t)*x + q(t)).expand()"
   ]
  },
  {
   "cell_type": "code",
   "execution_count": 32,
   "metadata": {
    "vscode": {
     "languageId": "sage"
    }
   },
   "outputs": [
    {
     "data": {
      "text/plain": [
       "40"
      ]
     },
     "execution_count": 32,
     "metadata": {},
     "output_type": "execute_result"
    }
   ],
   "source": [
    "x(t=0)"
   ]
  },
  {
   "cell_type": "markdown",
   "metadata": {},
   "source": [
    "## Autonomous Equations\n",
    "\n",
    "The equation \n",
    "$$\n",
    "\\begin{equation}\n",
    "\\tag{Autonomous Equation}\n",
    "x'=f(x)\n",
    "\\end{equation}\n",
    "$$\n",
    "\n",
    "is called autonomous because $f$ doesn't depends explicitly on $t$. We assume that $f:\\mathbb{R} \\to \\mathbb{R}$ is continuously differentiable function. "
   ]
  },
  {
   "cell_type": "markdown",
   "metadata": {},
   "source": [
    "**Theorem 1.8**  \n",
    "*If $x$ is a solution of the autonomous differential equation (1.6) on an interval $(a, b)$, where $-\\infty \\leq a < b \\leq \\infty$, then for any constant $c$, the function $y$ defined by $y(t) := x(t - c)$, for $t \\in (a + c, b + c)$, is a solution of (1.6) on $(a + c, b + c)$.*\n",
    "\n"
   ]
  },
  {
   "cell_type": "markdown",
   "metadata": {},
   "source": [
    "**Definition 1.9**  \n",
    "*If $f(x_0) = 0$ we say that $x_0$ is an* *equilibrium point* *for the differential equation (1.6). If, in addition, there is a $\\delta > 0$ such that*\n",
    "\n",
    "$$\n",
    "f(x) \\ne 0 \\quad \\text{for } |x - x_0| < \\delta,\\ x \\ne x_0,\n",
    "$$\n",
    "\n",
    "*then we say $x_0$ is an* *isolated equilibrium point*.\n",
    "\n"
   ]
  },
  {
   "cell_type": "markdown",
   "metadata": {},
   "source": [
    "***Example (1.10)***\n",
    "\n",
    "Consider the equation $x'= -2(x-70)$. \n",
    "- $x=70$ is the only equilibrium point. \n",
    "- Any solution is in the form $x(t)=De^{-2t}+70$. \n",
    "- We cna verify that $x(t-c)$ is a solution. "
   ]
  },
  {
   "cell_type": "markdown",
   "metadata": {},
   "source": [
    "**Definition 1.11**  \n",
    "*Let $\\phi$ be a solution of (1.6) with maximal interval of existence $(\\alpha, \\omega)$. Then the set*\n",
    "\n",
    "$$\n",
    "\\{ \\phi(t) : t \\in (\\alpha, \\omega) \\}\n",
    "$$\n",
    "\n",
    "*is called an* *orbit* *for the differential equation (1.6).*\n"
   ]
  },
  {
   "cell_type": "markdown",
   "metadata": {},
   "source": [
    "Note that the orbits for\n",
    "\n",
    "$$\n",
    "x' = -2(x - 70)\n",
    "$$\n",
    "\n",
    "are the images of the sets\n",
    "\n",
    "$$\n",
    "(-\\infty, 70), \\quad \\{70\\}, \\quad (70, \\infty).\n",
    "$$\n",
    "\n",
    "under the solution $x(t)$. \n"
   ]
  },
  {
   "cell_type": "code",
   "execution_count": 33,
   "metadata": {
    "vscode": {
     "languageId": "sage"
    }
   },
   "outputs": [
    {
     "data": {
      "text/plain": [
       "-2*x0*e^(-2*t) + 140*e^(-2*t)"
      ]
     },
     "execution_count": 33,
     "metadata": {},
     "output_type": "execute_result"
    }
   ],
   "source": [
    "var('x t x0')\n",
    "f(x) = -2 * (x - 70)\n",
    "\n",
    "def G(x0): \n",
    "    return 70 + (x0 - 70) * exp(-2 * t)\n",
    "\n",
    "phi = G(x0)\n",
    "\n",
    "phi.diff(t).expand()\n"
   ]
  },
  {
   "cell_type": "code",
   "execution_count": 34,
   "metadata": {
    "vscode": {
     "languageId": "sage"
    }
   },
   "outputs": [
    {
     "data": {
      "text/plain": [
       "-2*x0*e^(-2*t) + 140*e^(-2*t)"
      ]
     },
     "execution_count": 34,
     "metadata": {},
     "output_type": "execute_result"
    }
   ],
   "source": [
    "f(phi).expand()"
   ]
  },
  {
   "cell_type": "code",
   "execution_count": 35,
   "metadata": {
    "vscode": {
     "languageId": "sage"
    }
   },
   "outputs": [
    {
     "data": {
      "text/plain": [
       "x0"
      ]
     },
     "execution_count": 35,
     "metadata": {},
     "output_type": "execute_result"
    }
   ],
   "source": [
    "phi(t = 0) "
   ]
  },
  {
   "cell_type": "code",
   "execution_count": 36,
   "metadata": {
    "vscode": {
     "languageId": "sage"
    }
   },
   "outputs": [
    {
     "data": {
      "image/png": "[encoded data removed]",
      "text/plain": [
       "Graphics object consisting of 9 graphics primitives"
      ]
     },
     "metadata": {},
     "output_type": "display_data"
    }
   ],
   "source": [
    "\n",
    "# Initial conditions\n",
    "x0_values = [40, 50, 60, 70, 80, 90, 100]\n",
    "solutions = [ phi(x0=x0) for x0 in x0_values]\n",
    "\n",
    "# Slope field in the (t, x) plane\n",
    "slope_field = plot_slope_field(f, (t, 0, 5), (x, 40, 100), color='lightgray')\n",
    "\n",
    "# Plot solution curves\n",
    "solution_plots = sum([plot(sol, (t, 0, 5),) for sol, x0 in zip(solutions, x0_values)])\n",
    "\n",
    "# Equilibrium line\n",
    "equilibrium_line = plot(70, (t, 0, 5), color='black', linestyle='--', legend_label='Equilibrium x = 70')\n",
    "\n",
    "# Show the complete plot\n",
    "show(slope_field + solution_plots + equilibrium_line, figsize=6)\n"
   ]
  },
  {
   "cell_type": "markdown",
   "metadata": {},
   "source": [
    "**Theorem 1.12**  \n",
    "*Assume that $f : \\mathbb{R} \\to \\mathbb{R}$ is continuously differentiable. Then two orbits of (1.6) are either disjoint sets or are the same set.*\n"
   ]
  },
  {
   "cell_type": "markdown",
   "metadata": {},
   "source": [
    "**Example 1.13** *(Logistic Growth)*  \n",
    "The logistic law of population growth (Verhulst [52], 1838) is\n",
    "\n",
    "$$\n",
    "N' = rN \\left(1 - \\frac{N}{K} \\right),\n",
    "$$\n",
    "\n",
    "where $N$ is the number of individuals in the population, $r(1 - N/K)$ is the *per capita growth rate* that declines with increasing population, and $K > 0$ is the *carrying capacity* of the environment.  \n",
    "What are the orbits of the differential equation in this case?\n"
   ]
  },
  {
   "cell_type": "code",
   "execution_count": 37,
   "metadata": {
    "vscode": {
     "languageId": "sage"
    }
   },
   "outputs": [
    {
     "data": {
      "text/plain": [
       "(K - N(t))*(K - 2*N(t))*r^2*N(t)/K^2"
      ]
     },
     "execution_count": 37,
     "metadata": {},
     "output_type": "execute_result"
    }
   ],
   "source": [
    "var('t r K')\n",
    "N = function('N')(t)\n",
    "Np = r*N*(1-N/K)\n",
    "factor(diff(Np, t).subs({diff(N,t):Np}))"
   ]
  },
  {
   "cell_type": "code",
   "execution_count": 38,
   "metadata": {
    "vscode": {
     "languageId": "sage"
    }
   },
   "outputs": [
    {
     "data": {
      "text/plain": [
       "(K - N0)*K*N0*r*e^(r*t)/(N0*e^(r*t) + K - N0)^2"
      ]
     },
     "execution_count": 38,
     "metadata": {},
     "output_type": "execute_result"
    }
   ],
   "source": [
    "# Define variables\n",
    "var('t N r K N0')\n",
    "\n",
    "f = r * N * (1-N/K)\n",
    "\n",
    "# phi = (K*N0*exp(r*t))/(K + N0*(exp(r*t) - 1))\n",
    "def G(N0, K, r):\n",
    "    return (K*N0*exp(r*t))/(K + N0*(exp(r*t) - 1))\n",
    "\n",
    "phi = G(N0, K, r)\n",
    "\n",
    "phi.diff(t).factor()"
   ]
  },
  {
   "cell_type": "code",
   "execution_count": 39,
   "metadata": {
    "vscode": {
     "languageId": "sage"
    }
   },
   "outputs": [
    {
     "data": {
      "text/plain": [
       "(K - N0)*K*N0*r*e^(r*t)/(N0*e^(r*t) + K - N0)^2"
      ]
     },
     "execution_count": 39,
     "metadata": {},
     "output_type": "execute_result"
    }
   ],
   "source": [
    "f(N = phi).factor()"
   ]
  },
  {
   "cell_type": "code",
   "execution_count": 40,
   "metadata": {
    "vscode": {
     "languageId": "sage"
    }
   },
   "outputs": [
    {
     "data": {
      "text/plain": [
       "N0"
      ]
     },
     "execution_count": 40,
     "metadata": {},
     "output_type": "execute_result"
    }
   ],
   "source": [
    "phi(t=0)"
   ]
  },
  {
   "cell_type": "code",
   "execution_count": null,
   "metadata": {
    "vscode": {
     "languageId": "sage"
    }
   },
   "outputs": [
    {
     "data": {
      "text/plain": [
       "[100*e^(0.100000000000000*t)/(e^(0.100000000000000*t) + 99),\n",
       " 1100*e^(0.100000000000000*t)/(11*e^(0.100000000000000*t) + 89),\n",
       " 2100*e^(0.100000000000000*t)/(21*e^(0.100000000000000*t) + 79),\n",
       " 3100*e^(0.100000000000000*t)/(31*e^(0.100000000000000*t) + 69),\n",
       " 4100*e^(0.100000000000000*t)/(41*e^(0.100000000000000*t) + 59),\n",
       " 5100*e^(0.100000000000000*t)/(51*e^(0.100000000000000*t) + 49),\n",
       " 6100*e^(0.100000000000000*t)/(61*e^(0.100000000000000*t) + 39),\n",
       " 7100*e^(0.100000000000000*t)/(71*e^(0.100000000000000*t) + 29),\n",
       " 8100*e^(0.100000000000000*t)/(81*e^(0.100000000000000*t) + 19),\n",
       " 9100*e^(0.100000000000000*t)/(91*e^(0.100000000000000*t) + 9),\n",
       " 10100*e^(0.100000000000000*t)/(101*e^(0.100000000000000*t) - 1),\n",
       " 11100*e^(0.100000000000000*t)/(111*e^(0.100000000000000*t) - 11),\n",
       " 12100*e^(0.100000000000000*t)/(121*e^(0.100000000000000*t) - 21),\n",
       " 13100*e^(0.100000000000000*t)/(131*e^(0.100000000000000*t) - 31),\n",
       " 14100*e^(0.100000000000000*t)/(141*e^(0.100000000000000*t) - 41),\n",
       " 15100*e^(0.100000000000000*t)/(151*e^(0.100000000000000*t) - 51),\n",
       " 16100*e^(0.100000000000000*t)/(161*e^(0.100000000000000*t) - 61),\n",
       " 17100*e^(0.100000000000000*t)/(171*e^(0.100000000000000*t) - 71),\n",
       " 18100*e^(0.100000000000000*t)/(181*e^(0.100000000000000*t) - 81),\n",
       " 19100*e^(0.100000000000000*t)/(191*e^(0.100000000000000*t) - 91)]"
      ]
     },
     "execution_count": 41,
     "metadata": {},
     "output_type": "execute_result"
    }
   ],
   "source": [
    "# Initial conditions \n",
    "import numpy as np \n",
    "\n",
    "K = 100\n",
    "r = 0.1\n",
    "N0_values = np.arange(1, 2*K, 10)\n",
    "\n",
    "solutions = [ G(N0, K, r) for N0 in N0_values]"
   ]
  },
  {
   "cell_type": "code",
   "execution_count": 42,
   "metadata": {
    "vscode": {
     "languageId": "sage"
    }
   },
   "outputs": [
    {
     "data": {
      "image/png": "[encoded data removed]",
      "text/plain": [
       "Graphics object consisting of 22 graphics primitives"
      ]
     },
     "metadata": {},
     "output_type": "display_data"
    }
   ],
   "source": [
    "T = 110\n",
    "\n",
    "# Slope field in the (t, x) plane\n",
    "slope_field = plot_slope_field(f(r=r, K =K), (t, 0, T), (N, 1, 2*K), color='lightgray')\n",
    "\n",
    "# Plot solution curves\n",
    "solution_plots = sum([plot(sol, (t, 0, T),) for sol, N0 in zip(solutions, N0_values)])\n",
    "\n",
    "# Equilibrium line\n",
    "equilibrium_line = plot(K, (t, 0, T), color='black', linestyle='--', legend_label=f'N = {K}')\n",
    "\n",
    "# Show the complete plot\n",
    "show(slope_field + solution_plots + equilibrium_line, figsize=6)"
   ]
  },
  {
   "cell_type": "markdown",
   "metadata": {},
   "source": [
    "**Definition 1.15** We say that an equilibrium point $x_0$ of the differential equation (1.6) is *stable* provided given any $\\epsilon > 0$ there is a $\\delta > 0$ such that whenever $|x_1 - x_0| < \\delta$ it follows that the solution $\\phi(\\cdot, x_1)$ exists on $[0, \\infty)$ and $|\\phi(t, x_1) - x_0| < \\epsilon$, for $t \\geq 0$. \n",
    "\n",
    "\n",
    "If, in addition, there is a $\\delta_0 > 0$ such that $|x_1 - x_0| < \\delta_0$ implies that $\\lim_{t \\to \\infty} \\phi(t, x_1) = x_0$, then we say that the equilibrium point $x_0$ is *asymptotically stable*. If an equilibrium point is not stable, then we say that it is *unstable*.\n",
    "\n"
   ]
  },
  {
   "cell_type": "markdown",
   "metadata": {},
   "source": [
    "For the differential equation $N' = rN(1 - N/K)$ the equilibrium point $N_1 = 0$ is unstable and the equilibrium point $N_2 = K$ is asymptotically stable.\n"
   ]
  },
  {
   "cell_type": "markdown",
   "metadata": {},
   "source": [
    "### Potential Energy Function\n",
    "\n",
    "**Definition 1.16** We say that $F$ is a *potential energy function* for the differential equation (1.6) provided $f(x) = -F'(x)$.\n"
   ]
  },
  {
   "cell_type": "markdown",
   "metadata": {},
   "source": [
    "**Theorem 1.17** *If $F$ is a potential energy function for (1.6), then $F(x(t))$ is strictly decreasing along any nonconstant solution $x$. Also, $x_0$ is an equilibrium point of (1.6) iff $F'(x_0) = 0$. If $x_0$ is an isolated equilibrium point of (1.6) such that $F$ has a local minimum at $x_0$, then $x_0$ is asymptotically stable.*"
   ]
  },
  {
   "cell_type": "markdown",
   "metadata": {},
   "source": [
    "***Example 1.18***\n",
    "\n",
    "Find the potential function for $x' = -2(x-70)$. "
   ]
  },
  {
   "cell_type": "code",
   "execution_count": 44,
   "metadata": {
    "vscode": {
     "languageId": "sage"
    }
   },
   "outputs": [
    {
     "data": {
      "text/plain": [
       "x^2 - 140*x"
      ]
     },
     "execution_count": 44,
     "metadata": {},
     "output_type": "execute_result"
    }
   ],
   "source": [
    "var('u')\n",
    "\n",
    "f = -2*(u-70)\n",
    "\n",
    "F = -integrate(f, u, 0, x)\n",
    "F "
   ]
  },
  {
   "cell_type": "code",
   "execution_count": 46,
   "metadata": {
    "vscode": {
     "languageId": "sage"
    }
   },
   "outputs": [
    {
     "data": {
      "text/plain": [
       "0"
      ]
     },
     "execution_count": 46,
     "metadata": {},
     "output_type": "execute_result"
    }
   ],
   "source": [
    "tc = 70\n",
    "f(u=tc) "
   ]
  },
  {
   "cell_type": "code",
   "execution_count": 47,
   "metadata": {
    "vscode": {
     "languageId": "sage"
    }
   },
   "outputs": [
    {
     "data": {
      "text/plain": [
       "diff(X(t), t) == -2*X(t) + 140"
      ]
     },
     "execution_count": 47,
     "metadata": {},
     "output_type": "execute_result"
    }
   ],
   "source": [
    "X = function('X')(t)\n",
    "ode = diff(X, t) == f(u=X)\n",
    "ode   "
   ]
  },
  {
   "cell_type": "code",
   "execution_count": null,
   "metadata": {
    "vscode": {
     "languageId": "sage"
    }
   },
   "outputs": [
    {
     "data": {
      "text/plain": [
       "(X0 + 70*e^(2*t) - 70)*e^(-2*t)"
      ]
     },
     "execution_count": 51,
     "metadata": {},
     "output_type": "execute_result"
    }
   ],
   "source": [
    "var('X0')\n",
    "phi = desolve(ode, X, [0, X0])"
   ]
  },
  {
   "cell_type": "code",
   "execution_count": null,
   "metadata": {
    "vscode": {
     "languageId": "sage"
    }
   },
   "outputs": [],
   "source": []
  }
 ],
 "metadata": {
  "kernelspec": {
   "display_name": "SageMath 9.5",
   "language": "sage",
   "name": "sagemath"
  },
  "language_info": {
   "codemirror_mode": {
    "name": "ipython",
    "version": 3
   },
   "file_extension": ".py",
   "mimetype": "text/x-python",
   "name": "python",
   "nbconvert_exporter": "python",
   "pygments_lexer": "ipython3",
   "version": "3.10.12"
  }
 },
 "nbformat": 4,
 "nbformat_minor": 2
}
