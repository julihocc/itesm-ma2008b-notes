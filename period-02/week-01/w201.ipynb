{
 "cells": [
  {
   "cell_type": "markdown",
   "id": "546b19a1",
   "metadata": {},
   "source": [
    "# Numerical Anlysis for Non-Linear Optimization\n",
    "\n",
    "## First-Order Linear Equations\n",
    "\n",
    "In the next week, we will study equation of the form:\n",
    "\n",
    "$$\n",
    "x'(t) = f(t, x(t))\n",
    "$$\n",
    "\n",
    "where $f: (a,b) \\times (c,d) \\to \\mathbb{B}$ is continuous, $-\\infty \\leq a<b \\leq \\infty$ and $-\\infty \\leq c,d \\leq \\infty$.\n",
    "\n",
    "### Variation of Constants Formula\n",
    "\n",
    "Consider\n",
    "\n",
    "$$\n",
    "\\begin{align}\n",
    "x' &= p(t)x+q(t) \\\\\n",
    "x(t_0) &= x_0\n",
    "\\end{align}\n",
    "$$\n",
    "\n",
    "where $p,q:(a,b) \\to \\mathbb{R}$ are continuous functions, $-\\infty \\leq a < b\n",
    "\\leq \\infty$, $t_0 \\in (a,b)$ and $x_0\\in \\mathbb{R}$.\n",
    "\n",
    "Then for $t\\in(a,b)$, the solution of the above equation is given by\n",
    "\n",
    "$$\n",
    "x(t) = e^{\\int_{t_0}^{t} p(\\tau)\\, d\\tau} x_0 + e^{\\int_{t_0}^{t} p(\\tau)\\, d\\tau} \\int_{t_0}^{t} e^{-\\int_{t_0}^{s} p(\\tau)\\, d\\tau} q(s)\\, ds,\n",
    "\n",
    "$$\n",
    "\n",
    "***Example***\n",
    "\n",
    "Ccnsider $p(\\tau) = \\tau$ and $q(\\tau) = \\sin(\\tau)$. First, let's write a function to compute the solution of the above equation."
   ]
  },
  {
   "cell_type": "code",
   "execution_count": null,
   "id": "3b801c9e",
   "metadata": {},
   "outputs": [],
   "source": [
    "def phi(p, q, x0, t0, t):\n",
    "    tau, s = var('tau s')\n",
    "    # Compute the exponential integrating factor\n",
    "    exp_int_p = exp(integrate(p(tau), (tau, t0, t)))\n",
    "    \n",
    "    # First term\n",
    "    term1 = exp_int_p * x0\n",
    "    \n",
    "    # Inner integral inside the second term\n",
    "    inner_exp = exp(-integrate(p(tau), (tau, t0, s)))\n",
    "    inner_integrand = inner_exp * q(s)\n",
    "    inner_integral = integrate(inner_integrand, (s, t0, t))\n",
    "    \n",
    "    # Second term\n",
    "    term2 = exp_int_p * inner_integral\n",
    "    \n",
    "    return term1 + term2\n"
   ]
  },
  {
   "cell_type": "markdown",
   "id": "ea2772c8",
   "metadata": {},
   "source": [
    "Then, let's define the adeuacte parameters:"
   ]
  },
  {
   "cell_type": "code",
   "execution_count": null,
   "id": "ff1039e1",
   "metadata": {},
   "outputs": [],
   "source": [
    "t, t0 = var('t t0')\n",
    "\n",
    "assume( t0 > 0)\n",
    "assume(t > t0)\n",
    "\n",
    "p(t) = -2\n",
    "q(t) = 140 + 20 * exp(-2*t)\n",
    "x0 = 40\n",
    "x = phi(p, q, x0, 0, t)\n",
    "print(x.expand())"
   ]
  },
  {
   "cell_type": "markdown",
   "id": "b5f5b8d5",
   "metadata": {
    "vscode": {
     "languageId": "sage"
    }
   },
   "source": [
    "Finally, let's verify that the given function is a solution of the initial value problem."
   ]
  },
  {
   "cell_type": "code",
   "execution_count": null,
   "id": "b421160c",
   "metadata": {},
   "outputs": [],
   "source": [
    "diff(x,t).expand()"
   ]
  },
  {
   "cell_type": "code",
   "execution_count": null,
   "id": "f0300721",
   "metadata": {},
   "outputs": [],
   "source": [
    "(p(t)*x + q(t)).expand()"
   ]
  },
  {
   "cell_type": "code",
   "execution_count": null,
   "id": "45ac9408",
   "metadata": {},
   "outputs": [],
   "source": [
    "x(t=0)"
   ]
  },
  {
   "cell_type": "markdown",
   "id": "f876940b",
   "metadata": {},
   "source": [
    "## Autonomous Equations\n",
    "\n",
    "The equation\n",
    "$$\n",
    "\\begin{equation}\n",
    "\\tag{1.6}\n",
    "x'=f(x)\n",
    "\\end{equation}\n",
    "$$\n",
    "\n",
    "is called autonomous because $f$ doesn't depends explicitly on $t$. We assume that $f:\\mathbb{R} \\to \\mathbb{R}$ is continuously differentiable function.\n",
    "\n",
    "**Theorem 1.8**  \n",
    "*If $x$ is a solution of the autonomous differential equation (1.6) on an interval $(a, b)$, where $-\\infty \\leq a < b \\leq \\infty$, then for any constant $c$, the function $y$ defined by $y(t) := x(t - c)$, for $t \\in (a + c, b + c)$, is a solution of (1.6) on $(a + c, b + c)$.*\n",
    "\n",
    "**Definition 1.9**  \n",
    "*If $f(x_0) = 0$ we say that $x_0$ is an* *equilibrium point* *for the differential equation (1.6). If, in addition, there is a $\\delta > 0$ such that*\n",
    "\n",
    "$$\n",
    "f(x) \\ne 0 \\quad \\text{for } |x - x_0| < \\delta,\\ x \\ne x_0,\n",
    "$$\n",
    "\n",
    "*then we say $x_0$ is an* *isolated equilibrium point*.\n",
    "\n",
    "***Example (1.10)***\n",
    "\n",
    "Consider the equation $x'= -2(x-70)$.\n",
    "\n",
    "- $x=70$ is the only equilibrium point.\n",
    "- Any solution is in the form $x(t)=De^{-2t}+70$.\n",
    "- We cna verify that $x(t-c)$ is a solution.\n",
    "\n",
    "**Definition 1.11**  \n",
    "*Let $\\phi$ be a solution of (1.6) with maximal interval of existence $(\\alpha, \\omega)$. Then the set*\n",
    "\n",
    "$$\n",
    "\\{ \\phi(t) : t \\in (\\alpha, \\omega) \\}\n",
    "$$\n",
    "\n",
    "*is called an* *orbit* *for the differential equation (1.6).*\n",
    "\n",
    "Note that the orbits for\n",
    "\n",
    "$$\n",
    "x' = -2(x - 70)\n",
    "$$\n",
    "\n",
    "are the images of the sets\n",
    "\n",
    "$$\n",
    "(-\\infty, 70), \\quad \\{70\\}, \\quad (70, \\infty).\n",
    "$$\n",
    "\n",
    "under the solution $x(t)$."
   ]
  },
  {
   "cell_type": "code",
   "execution_count": null,
   "id": "25bc314c",
   "metadata": {},
   "outputs": [],
   "source": [
    "var('x t x0')\n",
    "f(x) = -2 * (x - 70)\n",
    "\n",
    "def G(x0): \n",
    "    return 70 + (x0 - 70) * exp(-2 * t)\n",
    "\n",
    "phi = G(x0)\n",
    "\n",
    "phi.diff(t).expand()\n"
   ]
  },
  {
   "cell_type": "code",
   "execution_count": null,
   "id": "8d0db2f9",
   "metadata": {},
   "outputs": [],
   "source": [
    "f(phi).expand()"
   ]
  },
  {
   "cell_type": "code",
   "execution_count": null,
   "id": "bbd329ce",
   "metadata": {},
   "outputs": [],
   "source": [
    "phi(t = 0) "
   ]
  },
  {
   "cell_type": "code",
   "execution_count": null,
   "id": "fe25c664",
   "metadata": {},
   "outputs": [],
   "source": [
    "\n",
    "# Initial conditions\n",
    "x0_values = [40, 50, 60, 70, 80, 90, 100]\n",
    "solutions = [ phi(x0=x0) for x0 in x0_values]\n",
    "\n",
    "# Slope field in the (t, x) plane\n",
    "slope_field = plot_slope_field(\n",
    "    f, (t, 0, 5), (x, 40, 100), color='lightgray')\n",
    "\n",
    "# Plot solution curves\n",
    "solution_plots = sum(\n",
    "    [plot(sol, (t, 0, 3),) for sol, x0 in zip(solutions, x0_values)])\n",
    "\n",
    "# Equilibrium line\n",
    "equilibrium_line = plot(\n",
    "    70, (t, 0, 5), \n",
    "    color='black', linestyle='--', legend_label='Equilibrium x = 70')\n",
    "\n",
    "# Show the complete plot\n",
    "show(slope_field + solution_plots + equilibrium_line, figsize=6)\n"
   ]
  },
  {
   "cell_type": "markdown",
   "id": "030b2439",
   "metadata": {},
   "source": [
    "**Theorem 1.12**  \n",
    "*Assume that $f : \\mathbb{R} \\to \\mathbb{R}$ is continuously differentiable. Then two orbits of (1.6) are either disjoint sets or are the same set.*\n",
    "\n",
    "**Example 1.13** *(Logistic Growth)*  \n",
    "The logistic law of population growth (Verhulst [52], 1838) is\n",
    "\n",
    "$$\n",
    "N' = rN \\left(1 - \\frac{N}{K} \\right),\n",
    "$$\n",
    "\n",
    "where $N$ is the number of individuals in the population, $r(1 - N/K)$ is the *per capita growth rate* that declines with increasing population, and $K > 0$ is the *carrying capacity* of the environment.  \n",
    "What are the orbits of the differential equation in this case?"
   ]
  },
  {
   "cell_type": "code",
   "execution_count": null,
   "id": "aead6e04",
   "metadata": {},
   "outputs": [],
   "source": [
    "var('t r K')\n",
    "N = function('N')(t)\n",
    "Np = r*N*(1-N/K)\n",
    "factor(diff(Np, t).subs({diff(N,t):Np}))"
   ]
  },
  {
   "cell_type": "code",
   "execution_count": null,
   "id": "467630ec",
   "metadata": {},
   "outputs": [],
   "source": [
    "# Define variables\n",
    "var('t N r K N0')\n",
    "\n",
    "f = r * N * (1-N/K)\n",
    "\n",
    "# phi = (K*N0*exp(r*t))/(K + N0*(exp(r*t) - 1))\n",
    "def G(N0, K, r):\n",
    "    return (K*N0*exp(r*t))/(K + N0*(exp(r*t) - 1))\n",
    "\n",
    "phi = G(N0, K, r)\n",
    "\n",
    "phi.diff(t).factor()"
   ]
  },
  {
   "cell_type": "code",
   "execution_count": null,
   "id": "fb688969",
   "metadata": {},
   "outputs": [],
   "source": [
    "f(N = phi).factor()"
   ]
  },
  {
   "cell_type": "code",
   "execution_count": null,
   "id": "3b05e99a",
   "metadata": {},
   "outputs": [],
   "source": [
    "phi(t=0)"
   ]
  },
  {
   "cell_type": "code",
   "execution_count": null,
   "id": "3eff5d7d",
   "metadata": {},
   "outputs": [],
   "source": [
    "# Initial conditions \n",
    "import numpy as np \n",
    "\n",
    "K = 100\n",
    "r = 0.1\n",
    "N0_values = np.arange(1, 2*K, 10)\n",
    "\n",
    "solutions = [ G(N0, K, r) for N0 in N0_values]"
   ]
  },
  {
   "cell_type": "code",
   "execution_count": null,
   "id": "1bca83d7",
   "metadata": {},
   "outputs": [],
   "source": [
    "T = 110\n",
    "\n",
    "# Slope field in the (t, x) plane\n",
    "slope_field = plot_slope_field(f(r=r, K =K), (t, 0, T), (N, 1, 2*K), color='lightgray')\n",
    "\n",
    "# Plot solution curves\n",
    "solution_plots = sum([plot(sol, (t, 0, T),) for sol, N0 in zip(solutions, N0_values)])\n",
    "\n",
    "# Equilibrium line\n",
    "equilibrium_line = plot(K, (t, 0, T), color='black', linestyle='--', legend_label=f'N = {K}')\n",
    "\n",
    "# Show the complete plot\n",
    "show(slope_field + solution_plots + equilibrium_line, figsize=6)"
   ]
  },
  {
   "cell_type": "markdown",
   "id": "6721c605",
   "metadata": {},
   "source": [
    "**Definition 1.15** We say that an equilibrium point $x_0$ of the differential equation (1.6) is *stable* provided given any $\\epsilon > 0$ there is a $\\delta > 0$ such that whenever $|x_1 - x_0| < \\delta$ it follows that the solution $\\phi(\\cdot, x_1)$ exists on $[0, \\infty)$ and $|\\phi(t, x_1) - x_0| < \\epsilon$, for $t \\geq 0$.\n",
    "\n",
    "If, in addition, there is a $\\delta_0 > 0$ such that $|x_1 - x_0| < \\delta_0$ implies that $\\lim_{t \\to \\infty} \\phi(t, x_1) = x_0$, then we say that the equilibrium point $x_0$ is *asymptotically stable*. If an equilibrium point is not stable, then we say that it is *unstable*.\n"
   ]
  },
  {
   "cell_type": "markdown",
   "id": "60825d61",
   "metadata": {},
   "source": [
    "For the differential equation $N' = rN(1 - N/K)$ the equilibrium point $N_1 = 0$ is unstable and the equilibrium point $N_2 = K$ is asymptotically stable.\n",
    "\n",
    "### Potential Energy Function\n",
    "\n",
    "**Definition 1.16** We say that $F$ is a *potential energy function* for the differential equation (1.6) provided $f(x) = -F'(x)$.\n",
    "\n",
    "**Theorem 1.17** *If $F$ is a potential energy function for (1.6), then $F(x(t))$ is strictly decreasing along any nonconstant solution $x$. Also, $x_0$ is an equilibrium point of (1.6) iff $F'(x_0) = 0$. If $x_0$ is an isolated equilibrium point of (1.6) such that $F$ has a local minimum at $x_0$, then $x_0$ is asymptotically stable.*\n",
    "\n",
    "***Example 1.18***\n",
    "\n",
    "Find the potential function for $x' = -2(x-70)$."
   ]
  },
  {
   "cell_type": "code",
   "execution_count": null,
   "id": "862d594c",
   "metadata": {},
   "outputs": [],
   "source": [
    "var('u')\n",
    "\n",
    "f = -2*(u-70)\n",
    "\n",
    "F = -integrate(f, u, 0, x)\n",
    "F "
   ]
  },
  {
   "cell_type": "code",
   "execution_count": null,
   "id": "222155f1",
   "metadata": {},
   "outputs": [],
   "source": [
    "tc = 70\n",
    "f(u=tc) "
   ]
  },
  {
   "cell_type": "code",
   "execution_count": null,
   "id": "1bcd831b",
   "metadata": {},
   "outputs": [],
   "source": [
    "X = function('X')(t)\n",
    "ode = diff(X, t) == f(u=X)\n",
    "ode   "
   ]
  },
  {
   "cell_type": "code",
   "execution_count": null,
   "id": "b5edeca0",
   "metadata": {},
   "outputs": [],
   "source": [
    "var('X0')\n",
    "phi = desolve(ode, X, [0, X0])"
   ]
  },
  {
   "cell_type": "code",
   "execution_count": null,
   "id": "2dff3951",
   "metadata": {},
   "outputs": [],
   "source": [
    "F(x=phi).diff(t).expand()"
   ]
  },
  {
   "cell_type": "code",
   "execution_count": null,
   "id": "e3bbd9a7",
   "metadata": {},
   "outputs": [],
   "source": [
    "(-f(u=phi)^2).expand()"
   ]
  },
  {
   "cell_type": "markdown",
   "id": "1eba630b",
   "metadata": {},
   "source": [
    "## Generalized Logistic Equation\n",
    "\n",
    "Suppose $p,q$ are continuous, and $x$ is the solution of\n",
    "$$\n",
    "\\begin{equation}\n",
    " \\tag{1.8}\n",
    " x'=-p(t)x+q(t)\n",
    "\\end{equation}\n",
    "$$\n",
    "with $x(t)\\neq 0$ on $I$.\n",
    "\n",
    "Then $y(t) = \\frac{1}{x(t)}, t\\in I$ is a solution of the *generalized linear equation*:\n",
    "\n",
    "$$\n",
    "\\begin{equation}\n",
    "    \\tag{1.9}\n",
    "    y'= [p(t)-q(t)y] y\n",
    "\\end{equation}\n",
    "$$\n",
    "\n",
    "**Theorem 1.19**: *If $y_0 \\neq 0$ and*\n",
    "\n",
    "$$\n",
    "\\frac{1}{y_0} + \\int_{t_0}^t q(s)e^{\\int_{t_0}^s p(\\tau) \\, d\\tau} \\, ds \\neq 0, \\quad t \\in I,\n",
    "$$\n",
    "\n",
    "*then the solution of the IVP*  \n",
    "$$\n",
    "y' = [p(t) - q(t)y] y, \\quad y(t_0) = y_0, \\quad t_0 \\in I \\tag{1.10}\n",
    "$$  \n",
    "\n",
    "*is given by*  \n",
    "$$\n",
    "y(t) = \\frac{e^{\\int_{t_0}^{t} p(\\tau) \\, d\\tau}}{\\frac{1}{y_0} + \\int_{t_0}^{t} q(s) e^{\\int_{t_0}^{s} p(\\tau) \\, d\\tau} \\, ds}. \\tag{1.11}\n",
    "$$\n",
    "\n",
    "**Corollary 1.20** *If $y_0 \\neq 0$ and*  \n",
    "$$\n",
    "\\frac{1}{y_0} - \\frac{1}{K} + \\frac{1}{K} e^{\\int_{t_0}^t p(s) \\, ds} \\neq 0, \\quad t \\in I,\n",
    "$$\n",
    "*then the solution of the IVP*  \n",
    "$$\n",
    "y' = p(t) \\left[ 1 - \\frac{y}{K} \\right] y, \\quad y(t_0) = y_0 \\tag{1.13}\n",
    "$$\n",
    "\n",
    "*is given by*  \n",
    "$$\n",
    "y(t) = \\frac{e^{\\int_{t_0}^t p(s) \\, ds}}{\\frac{1}{y_0} - \\frac{1}{K} + \\frac{1}{K} e^{\\int_{t_0}^t p(s) \\, ds}}. \\tag{1.14}\n",
    "$$\n",
    "\n",
    "**Theorem 1.21** *Assume $p : [t_0, \\infty) \\to [0, \\infty)$ is continuous and $\\int_{t_0}^{\\infty} p(t) \\, dt = \\infty$. Let $y(t)$ be the solution of the IVP (1.13) with $y_0 > 0$, then $y(t)$ exists on $[t_0, \\infty)$. Also if $0 < y_0 < K$, then $y(t)$ is nondecreasing with $\\lim_{t \\to \\infty} y(t) = K$. If $y_0 > K$, then $y(t)$ is nonincreasing with $\\lim_{t \\to \\infty} y(t) = K$.*\n",
    "\n",
    "## Bifurcation\n",
    "\n",
    "In the context of differential equations, a bifurcation refers to a qualitative change in the behavior of a system as a parameter is varied. More specifically, it occurs when a small smooth change made to the value of a parameter causes a sudden 'bifurcation' or splitting in the structure of the system’s solutions — such as the number or stability of equilibrium points.\n",
    "\n",
    "**Example 1.22** $x'=\\lambda (x-1)$"
   ]
  },
  {
   "cell_type": "code",
   "execution_count": null,
   "id": "8a5abcaf",
   "metadata": {},
   "outputs": [],
   "source": [
    "var(\"t x\")\n",
    "\n",
    "for l in [-1,0,1]: \n",
    "\n",
    "    f = l * (x-1)\n",
    "\n",
    "    g = Graphics()\n",
    "\n",
    "    g += plot_slope_field(f, (t, -1, 1), (x, -1,  3), color='blue')\n",
    "\n",
    "    g += plot( 1 , (t, -1, 1), color = 'red')\n",
    "\n",
    "    g.show()\n",
    "\n"
   ]
  },
  {
   "cell_type": "code",
   "execution_count": null,
   "id": "e8ffa53c",
   "metadata": {},
   "outputs": [],
   "source": [
    "var(\"t x\")\n",
    "\n",
    "for l in [-1,0,1]: \n",
    "\n",
    "\n",
    "    a = sqrt(abs(l))\n",
    "\n",
    "    f = l + x^2\n",
    "\n",
    "    g = Graphics()\n",
    "\n",
    "    g += plot_slope_field(f, (t, -1, 1), (x, -a-1,  a+1), color='blue')\n",
    "\n",
    "    if l == 0 :\n",
    "        g += plot(0, (t,-1,1), color = \"red\") \n",
    "\n",
    "    if l  < 0:\n",
    "        g += plot(-a, (t,-1,1), color = \"red\")\n",
    "        g += plot(a, (t,-1,1), color = \"red\")\n",
    "\n",
    "    g.show()"
   ]
  }
 ],
 "metadata": {
  "jupytext": {
   "cell_metadata_filter": "vscode,-all",
   "main_language": "sage",
   "notebook_metadata_filter": "-all"
  }
 },
 "nbformat": 4,
 "nbformat_minor": 5
}
