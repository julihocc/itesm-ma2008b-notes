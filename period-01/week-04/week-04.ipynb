{
 "cells": [
  {
   "cell_type": "markdown",
   "id": "850a1f01",
   "metadata": {
    "lines_to_next_cell": 0
   },
   "source": [
    "# Lecture Notes on Using SageMath to Find Laplace Transformations\n",
    "\n",
    "## Introduction to Laplace Transforms\n",
    "The Laplace transform is a powerful integral transform used to convert differential equations into algebraic equations. Given a function $f(t)$, its Laplace transform is defined as:\n",
    "$$\n",
    "L[f(t)] = F(s) = \\int_{0}^{\\infty} e^{-st} f(t) dt\n",
    "$$\n",
    "where $s$ is a complex number.\n",
    "\n",
    "## Computing Laplace Transforms in SageMath\n",
    "SageMath provides built-in functionality to compute the Laplace transform of a function. To use it, we first declare the variables and function.\n",
    "\n",
    "### Example 1: Basic Laplace Transform\n",
    "Let's compute the Laplace transform of $f(t) = e^{at}$:"
   ]
  },
  {
   "cell_type": "code",
   "execution_count": 46,
   "id": "e48bbcef",
   "metadata": {
    "lines_to_next_cell": 0
   },
   "outputs": [
    {
     "name": "stdout",
     "output_type": "stream",
     "text": [
      "-1/(a - s)\n"
     ]
    }
   ],
   "source": [
    "t,s,a = var('t s a')\n",
    "f = exp(a*t)\n",
    "L = laplace(f, t, s)\n",
    "print(L)"
   ]
  },
  {
   "cell_type": "markdown",
   "id": "6cdf5b37",
   "metadata": {
    "lines_to_next_cell": 0
   },
   "source": [
    "#### Output:\n",
    "$$\n",
    "\\frac{1}{s-a}, \\quad \\text{for } s > a\n",
    "$$\n",
    "\n",
    "### Example 2: Laplace Transform of Trigonometric Functions\n",
    "Let's compute the Laplace transform of $f(t) = \\sin(bt)$:"
   ]
  },
  {
   "cell_type": "code",
   "execution_count": 47,
   "id": "df2669b6",
   "metadata": {
    "lines_to_next_cell": 0
   },
   "outputs": [
    {
     "name": "stdout",
     "output_type": "stream",
     "text": [
      "b/(b^2 + s^2)\n"
     ]
    }
   ],
   "source": [
    "t, s, b = var('t s b')\n",
    "f = sin(b*t)\n",
    "L = laplace(f, t, s)\n",
    "print(L)"
   ]
  },
  {
   "cell_type": "markdown",
   "id": "4ec0ec41",
   "metadata": {
    "lines_to_next_cell": 0
   },
   "source": [
    "#### Output:\n",
    "$$\n",
    "\\frac{b}{s^2 + b^2}\n",
    "$$\n",
    "\n",
    "### Example 3: Laplace Transform of a Piecewise Function\n",
    "Consider the Heaviside step function $u(t - c)$, defined as:\n",
    "$$\n",
    " u(t - c) = \\begin{cases}\n",
    " 0, & t < c \\\\\n",
    " 1, & t \\geq c\n",
    " \\end{cases}\n",
    "$$\n",
    "We compute its Laplace transform using SageMath:"
   ]
  },
  {
   "cell_type": "code",
   "execution_count": 48,
   "id": "b8a1e8fb",
   "metadata": {
    "lines_to_next_cell": 0
   },
   "outputs": [
    {
     "name": "stdout",
     "output_type": "stream",
     "text": [
      "e^(-c*s)/s\n"
     ]
    }
   ],
   "source": [
    "var('t s c')\n",
    "assume(c > 0)  # Assuming c is positive\n",
    "f = heaviside(t-c)\n",
    "L = laplace(f, t, s)\n",
    "print(L)"
   ]
  },
  {
   "cell_type": "markdown",
   "id": "133f9be8",
   "metadata": {
    "lines_to_next_cell": 0
   },
   "source": [
    "#### Output:\n",
    "$$\n",
    "\\frac{e^{-cs}}{s}\n",
    "$$\n",
    "\n",
    "## Inverse Laplace Transform in SageMath\n",
    "SageMath also allows us to compute inverse Laplace transforms. For example:\n",
    "\n",
    "### Example 4: Inverse Laplace Transform\n",
    "Find the inverse Laplace transform of $F(s) = \\frac{1}{s^2 + 1}$:"
   ]
  },
  {
   "cell_type": "code",
   "execution_count": 49,
   "id": "ea26270f",
   "metadata": {
    "lines_to_next_cell": 0
   },
   "outputs": [
    {
     "name": "stdout",
     "output_type": "stream",
     "text": [
      "sin(t)\n"
     ]
    }
   ],
   "source": [
    "s, t = var('s t')\n",
    "F = 1/(s^2 + 1)\n",
    "f_t = inverse_laplace(F, s, t)\n",
    "print(f_t)"
   ]
  },
  {
   "cell_type": "markdown",
   "id": "75693398",
   "metadata": {
    "lines_to_next_cell": 0
   },
   "source": [
    "#### Output:\n",
    "$$\n",
    "\\sin(t)\n",
    "$$\n",
    "\n",
    "## Solving Differential Equations Using Laplace Transforms\n",
    "Laplace transforms can be used to solve linear differential equations with initial conditions.\n",
    "\n",
    "### Example 5: Solving a Second-Order Differential Equation\n",
    "Solve $y'' - 3y' - 4y = \\sin(x)$ with initial conditions $y(0) = 1, y'(0) = -1$:"
   ]
  },
  {
   "cell_type": "code",
   "execution_count": 50,
   "id": "0d5608c1",
   "metadata": {},
   "outputs": [],
   "source": [
    "def L(y,x):\n",
    "    return diff(y, x, x) - 3*diff(y, x) - 4*y "
   ]
  },
  {
   "cell_type": "code",
   "execution_count": 51,
   "id": "10684e09",
   "metadata": {
    "lines_to_next_cell": 0
   },
   "outputs": [
    {
     "name": "stdout",
     "output_type": "stream",
     "text": [
      "s^2*laplace(y(x), x, s) - 3*s*laplace(y(x), x, s) - s*y(0) - 4*laplace(y(x), x, s) + 3*y(0) - D[0](y)(0) == (1/(s^2 + 1))\n"
     ]
    }
   ],
   "source": [
    "var('x s')\n",
    "y = function('y')(x)\n",
    "deq = L(y, x) == sin(x)\n",
    "L_deq = laplace(deq, x, s)\n",
    "print(L_deq)"
   ]
  },
  {
   "cell_type": "markdown",
   "id": "2a2931b1",
   "metadata": {},
   "source": [
    "This results in an algebraic equation in $s$, which can be solved for $Y(s)$. The inverse Laplace transform then gives $y(x)$.\n"
   ]
  },
  {
   "cell_type": "code",
   "execution_count": 52,
   "id": "b12dea1f",
   "metadata": {},
   "outputs": [
    {
     "name": "stdout",
     "output_type": "stream",
     "text": [
      "Y*s^2 - 3*Y*s - 4*Y - s + 4 == (1/(s^2 + 1))\n"
     ]
    }
   ],
   "source": [
    "# Solve L_deq for Y(s)\n",
    "\n",
    "Y, a, b = var(\"Y, a, b\")\n",
    "\n",
    "substitutions = {\n",
    "    laplace(y, x, s): Y,\n",
    "    y(x=0): 1,\n",
    "    diff(y, x).subs(x==0): -1\n",
    "}\n",
    "\n",
    "L_algebraic = L_deq.subs(substitutions)\n",
    "\n",
    "print(L_algebraic)"
   ]
  },
  {
   "cell_type": "code",
   "execution_count": 53,
   "id": "27ec1a1a",
   "metadata": {},
   "outputs": [
    {
     "name": "stdout",
     "output_type": "stream",
     "text": [
      "[{Y: (s^3 - 4*s^2 + s - 3)/(s^4 - 3*s^3 - 3*s^2 - 3*s - 4)}]\n"
     ]
    }
   ],
   "source": [
    "algebraic_solutions = solve(L_algebraic, Y, solution_dict=True)\n",
    "print(algebraic_solutions)"
   ]
  },
  {
   "cell_type": "code",
   "execution_count": 54,
   "id": "c9b69a6e",
   "metadata": {},
   "outputs": [
    {
     "name": "stdout",
     "output_type": "stream",
     "text": [
      "3/34*cos(x) + 1/85*e^(4*x) + 9/10*e^(-x) - 5/34*sin(x)\n"
     ]
    }
   ],
   "source": [
    "y_x = inverse_laplace(algebraic_solutions[0][Y], s, x)\n",
    "print(y_x)"
   ]
  },
  {
   "cell_type": "code",
   "execution_count": 55,
   "id": "4846bc81",
   "metadata": {},
   "outputs": [
    {
     "data": {
      "text/plain": [
       "sin(x)"
      ]
     },
     "execution_count": 55,
     "metadata": {},
     "output_type": "execute_result"
    }
   ],
   "source": [
    "L(y_x, x)"
   ]
  },
  {
   "cell_type": "code",
   "execution_count": 58,
   "id": "435f1aaa",
   "metadata": {},
   "outputs": [
    {
     "data": {
      "text/plain": [
       "1"
      ]
     },
     "execution_count": 58,
     "metadata": {},
     "output_type": "execute_result"
    }
   ],
   "source": [
    "y_x(x = 0)"
   ]
  },
  {
   "cell_type": "code",
   "execution_count": 60,
   "id": "cfb3bf9e",
   "metadata": {},
   "outputs": [
    {
     "data": {
      "text/plain": [
       "-1"
      ]
     },
     "execution_count": 60,
     "metadata": {},
     "output_type": "execute_result"
    }
   ],
   "source": [
    "diff(y_x, x).subs(x=0)"
   ]
  },
  {
   "cell_type": "code",
   "execution_count": 66,
   "id": "d291b7ea",
   "metadata": {},
   "outputs": [
    {
     "data": {
      "text/plain": [
       "[1/34*(3*s - 5)/(s^2 + 1), 9/10/(s + 1), 1/85/(s - 4)]"
      ]
     },
     "execution_count": 66,
     "metadata": {},
     "output_type": "execute_result"
    }
   ],
   "source": [
    "F = algebraic_solutions[0][Y]\n",
    "F.partial_fraction_decomposition()"
   ]
  },
  {
   "cell_type": "code",
   "execution_count": null,
   "id": "048f5f71",
   "metadata": {},
   "outputs": [],
   "source": []
  }
 ],
 "metadata": {
  "jupytext": {
   "cell_metadata_filter": "-all",
   "main_language": "python",
   "notebook_metadata_filter": "-all"
  },
  "kernelspec": {
   "display_name": "SageMath 9.5",
   "language": "sage",
   "name": "sagemath"
  },
  "language_info": {
   "codemirror_mode": {
    "name": "ipython",
    "version": 3
   },
   "file_extension": ".py",
   "mimetype": "text/x-python",
   "name": "sage",
   "nbconvert_exporter": "python",
   "pygments_lexer": "ipython3",
   "version": "3.10.12"
  }
 },
 "nbformat": 4,
 "nbformat_minor": 5
}
