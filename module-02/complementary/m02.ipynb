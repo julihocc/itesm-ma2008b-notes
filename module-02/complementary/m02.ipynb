{
 "cells": [
  {
   "cell_type": "markdown",
   "id": "9deb7c5e",
   "metadata": {},
   "source": [
    "# Tutorial: Stochastic Processes and Numerical Simulation in Python\n",
    "\n",
    "This tutorial covers essential concepts and practical examples related to stochastic processes and numerical simulations using Python. Topics include uncertainty in stochastic processes, Brownian motion, financial options pricing using the binomial model, and numerical solutions of stochastic differential equations (SDEs) via the Euler-Maruyama method.\n",
    "\n",
    "---\n",
    "\n",
    "## **Uncertainty and Stochastic Processes**\n",
    "\n",
    "Stochastic processes involve random variables that evolve over time. These processes are fundamental in modeling systems where uncertainty plays a crucial role, such as financial markets, physics, and biology.\n",
    "\n",
    "A simple example is the **Wiener process** (Brownian motion), defined as:\n",
    "\n",
    "$$\n",
    "W(t) = \\sum_{i=1}^{n} \\Delta W_i, \\quad \\Delta W_i \\sim \\mathcal{N}(0, \\Delta t)\n",
    "$$\n",
    "\n",
    "### **Example: Simulating a Stochastic Process**"
   ]
  },
  {
   "cell_type": "code",
   "execution_count": null,
   "id": "4d4c61ba",
   "metadata": {},
   "outputs": [],
   "source": [
    "import numpy as np\n",
    "import matplotlib.pyplot as plt\n",
    "\n",
    "def simulate_stochastic_process(T, N, M):\n",
    "    dt = T / N\n",
    "    dX = np.sqrt(dt) * np.random.randn(M, N)\n",
    "    X = np.cumsum(dX, axis=1)\n",
    "    t = np.linspace(0, T, N)\n",
    "    plt.plot(t, X.T)\n",
    "    plt.title(\"Sample Paths of a Stochastic Process\")\n",
    "    plt.xlabel(\"Time\")\n",
    "    plt.ylabel(\"X(t)\")\n",
    "    plt.show()\n",
    "\n",
    "simulate_stochastic_process(T=1, N=1000, M=5)"
   ]
  },
  {
   "cell_type": "markdown",
   "id": "cef9c1a0",
   "metadata": {},
   "source": [
    "---\n",
    "\n",
    "## **Lyapunov Exponent and Brownian Motion**\n",
    "\n",
    "The **Lyapunov exponent** measures the rate of separation of infinitesimally close trajectories. For stochastic systems, it helps in understanding system stability under random perturbations.\n",
    "\n",
    "**Brownian motion** is modeled as:\n",
    "\n",
    "$$\n",
    "dX_t = \\mu \\, dt + \\sigma \\, dW_t\n",
    "$$\n",
    "\n",
    "### **Example: Brownian Motion Simulation**"
   ]
  },
  {
   "cell_type": "code",
   "execution_count": null,
   "id": "ba213171",
   "metadata": {},
   "outputs": [],
   "source": [
    "def simulate_brownian_motion(T, N, M):\n",
    "    dt = T / N\n",
    "    dW = np.sqrt(dt) * np.random.randn(M, N)\n",
    "    W = np.cumsum(dW, axis=1)\n",
    "    t = np.linspace(0, T, N)\n",
    "    plt.plot(t, W.T)\n",
    "    plt.title(\"Simulated Brownian Motion Paths\")\n",
    "    plt.xlabel(\"Time\")\n",
    "    plt.ylabel(\"W(t)\")\n",
    "    plt.show()\n",
    "\n",
    "simulate_brownian_motion(T=1, N=1000, M=5)"
   ]
  },
  {
   "cell_type": "markdown",
   "id": "b4527e85",
   "metadata": {},
   "source": [
    "---\n",
    "\n",
    "## **Financial Options and the Binomial Model**\n",
    "\n",
    "The **binomial model** approximates the price of financial options. Over each time step, the underlying asset price can move up or down by a certain factor.\n",
    "\n",
    "The recursive formula for a European call option is:\n",
    "\n",
    "$$\n",
    "C_0 = e^{-rT} \\mathbb{E}[C_T]\n",
    "$$\n",
    "\n",
    "### **Example: Binomial Model for Option Pricing**"
   ]
  },
  {
   "cell_type": "code",
   "execution_count": null,
   "id": "ccdc77a0",
   "metadata": {},
   "outputs": [],
   "source": [
    "def binomial_option_pricing(S0, K, T, r, sigma, N, option_type='call'):\n",
    "    dt = T / N\n",
    "    u = np.exp(sigma * np.sqrt(dt))\n",
    "    d = 1 / u\n",
    "    p = (np.exp(r * dt) - d) / (u - d)\n",
    "    S = np.zeros((N + 1, N + 1))\n",
    "    for i in range(N + 1):\n",
    "        for j in range(i + 1):\n",
    "            S[j, i] = S0 * (u ** j) * (d ** (i - j))\n",
    "    if option_type == 'call':\n",
    "        C = np.maximum(0, S[:, N] - K)\n",
    "    else:\n",
    "        C = np.maximum(0, K - S[:, N])\n",
    "    for i in range(N - 1, -1, -1):\n",
    "        for j in range(i + 1):\n",
    "            C[j] = np.exp(-r * dt) * (p * C[j + 1] + (1 - p) * C[j])\n",
    "    return C[0]\n",
    "\n",
    "price = binomial_option_pricing(S0=100, K=100, T=1, r=0.05, sigma=0.2, N=100)\n",
    "print(f\"Option Price: {price:.2f}\")"
   ]
  },
  {
   "cell_type": "markdown",
   "id": "29b46f2b",
   "metadata": {},
   "source": [
    "---\n",
    "\n",
    "## **ODEs and Euler + Maruyama Method**\n",
    "\n",
    "For stochastic differential equations:\n",
    "\n",
    "$$\n",
    "dX_t = \\mu(X_t, t) \\, dt + \\sigma(X_t, t) \\, dW_t\n",
    "$$\n",
    "\n",
    "The **Euler-Maruyama method** approximates solutions by:\n",
    "\n",
    "$$\n",
    "X_{t+\\Delta t} = X_t + \\mu(X_t, t)\\Delta t + \\sigma(X_t, t)\\sqrt{\\Delta t}Z\n",
    "$$\n",
    "\n",
    "where \\( Z \\sim \\mathcal{N}(0,1) \\).\n",
    "\n",
    "### **Example: Euler-Maruyama Method for SDE**"
   ]
  },
  {
   "cell_type": "code",
   "execution_count": null,
   "id": "624f05fd",
   "metadata": {},
   "outputs": [],
   "source": [
    "def euler_maruyama(mu, sigma, X0, T, N, M):\n",
    "    dt = T / N\n",
    "    X = np.zeros((M, N))\n",
    "    X[:, 0] = X0\n",
    "    for i in range(1, N):\n",
    "        dW = np.sqrt(dt) * np.random.randn(M)\n",
    "        X[:, i] = X[:, i-1] + mu * X[:, i-1] * dt + sigma * X[:, i-1] * dW\n",
    "    t = np.linspace(0, T, N)\n",
    "    plt.plot(t, X.T)\n",
    "    plt.title(\"Euler-Maruyama Simulation of Geometric Brownian Motion\")\n",
    "    plt.xlabel(\"Time\")\n",
    "    plt.ylabel(\"X(t)\")\n",
    "    plt.show()\n",
    "\n",
    "euler_maruyama(mu=0.1, sigma=0.2, X0=1, T=1, N=1000, M=5)"
   ]
  },
  {
   "cell_type": "markdown",
   "id": "b5f24cd3",
   "metadata": {},
   "source": [
    "---\n",
    "\n",
    "## **Simulation of Sample Paths and Convergence**\n",
    "\n",
    "Simulating sample paths involves generating multiple realizations of a stochastic process to estimate statistical properties. **Convergence** is evaluated by refining the time discretization and observing if the numerical solution stabilizes.\n",
    "\n",
    "### **Example: Convergence of Euler-Maruyama Method**"
   ]
  },
  {
   "cell_type": "code",
   "execution_count": null,
   "id": "a7dca22c",
   "metadata": {},
   "outputs": [],
   "source": [
    "def convergence_analysis(mu, sigma, X0, T, N_values, M):\n",
    "    means = []\n",
    "    for N in N_values:\n",
    "        dt = T / N\n",
    "        X = np.zeros((M, N))\n",
    "        X[:, 0] = X0\n",
    "        for i in range(1, N):\n",
    "            dW = np.sqrt(dt) * np.random.randn(M)\n",
    "            X[:, i] = X[:, i-1] + mu * X[:, i-1] * dt + sigma * X[:, i-1] * dW\n",
    "        means.append(np.mean(X[:, -1]))\n",
    "\n",
    "    plt.plot(N_values, means, marker='o')\n",
    "    plt.title(\"Convergence of Euler-Maruyama Method\")\n",
    "    plt.xlabel(\"Number of Steps (N)\")\n",
    "    plt.ylabel(\"Mean of X(T)\")\n",
    "    plt.grid(True)\n",
    "    plt.show()\n",
    "\n",
    "convergence_analysis(mu=0.1, sigma=0.2, X0=1, T=1, N_values=[100, 500, 1000, 5000], M=100)"
   ]
  },
  {
   "cell_type": "markdown",
   "id": "2cd35b44",
   "metadata": {},
   "source": [
    "---\n",
    "\n",
    "## **Conclusion**\n",
    "\n",
    "This tutorial introduced key stochastic simulation concepts using Python, including:\n",
    "\n",
    "- Brownian motion generation\n",
    "- Option pricing via the binomial model\n",
    "- Solving SDEs using the Euler-Maruyama method\n",
    "- Analyzing convergence of stochastic simulations\n",
    "\n",
    "These methods are widely used in financial modeling, physics, and engineering for understanding systems under uncertainty."
   ]
  }
 ],
 "metadata": {
  "jupytext": {
   "cell_metadata_filter": "-all",
   "main_language": "python",
   "notebook_metadata_filter": "-all"
  }
 },
 "nbformat": 4,
 "nbformat_minor": 5
}
