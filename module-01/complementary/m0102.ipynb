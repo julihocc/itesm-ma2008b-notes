{
 "cells": [
  {
   "cell_type": "markdown",
   "id": "48310624",
   "metadata": {},
   "source": [
    "# Numerical Analysis for Non-Linear Optimization | Module 1\n",
    "\n",
    "## Best Samples, Antithetic Variables, and Moment Control Techniques\n",
    "\n",
    "### Introduction\n",
    "\n",
    "Monte Carlo methods play a fundamental role in **stochastic simulations**, **numerical optimization**, and **risk analysis**. This module explores advanced variance reduction techniques—**best samples**, **antithetic variables**, and **moment control techniques**—to enhance the efficiency and accuracy of Monte Carlo simulations.\n",
    "\n",
    "---\n",
    "\n",
    "### Best Samples: Enhancing Estimation Accuracy\n",
    "\n",
    "The **best sample selection** technique improves the efficiency of Monte Carlo simulations by selecting sample points that minimize variance while maintaining unbiasedness.\n",
    "\n",
    "#### Importance Sampling and Stratification\n",
    "\n",
    "- **Importance Sampling**: Weights samples according to their probability density to reduce variance.\n",
    "- **Stratified Sampling**: Divides the domain into strata and samples each stratum proportionally to ensure even coverage.\n",
    "\n",
    "#### Quasi-Random Sequences\n",
    "\n",
    "- **Low-discrepancy sequences** (e.g., Sobol, Halton) generate well-spaced samples.\n",
    "- These sequences reduce **clustering** and improve integration efficiency compared to purely random samples.\n",
    "\n",
    "---\n",
    "\n",
    "### Antithetic Variables: Correlation for Variance Reduction\n",
    "\n",
    "The **antithetic variable method** leverages negatively correlated sample pairs to reduce variance in Monte Carlo estimation.\n",
    "\n",
    "#### Definition and Implementation\n",
    "\n",
    "- Instead of generating independent samples $X_1, X_2, ..., X_n$, create **correlated pairs** $(X_i, X_i^*)$ such that $X_i^*$ is designed to counteract fluctuations in $X_i$.\n",
    "- A common choice is $X_i^* = 1 - X_i$ for **uniform** distributions.\n",
    "\n",
    "#### Example: Monte Carlo Estimation of $\\pi$"
   ]
  },
  {
   "cell_type": "code",
   "execution_count": null,
   "id": "5c7812dc",
   "metadata": {},
   "outputs": [],
   "source": [
    "import numpy as np\n",
    "\n",
    "\n",
    "def monte_carlo_pi_antithetic(n):\n",
    "    u = np.random.random(n // 2)  # Generate half of the samples\n",
    "    v = 1 - u  # Generate antithetic pairs\n",
    "    x = np.concatenate((u, v))  # Combine samples\n",
    "    y = np.random.random(n)  # Independent Y values\n",
    "    inside_circle = (x**2 + y**2) <= 1\n",
    "    return (np.sum(inside_circle) / n) * 4\n",
    "\n",
    "\n",
    "print(\"Estimated Pi:\", monte_carlo_pi_antithetic(1000000))"
   ]
  },
  {
   "cell_type": "markdown",
   "id": "b6bfe4f6",
   "metadata": {},
   "source": [
    "---\n",
    "\n",
    "### Applications in Monte Carlo Simulations\n",
    "\n",
    "These variance reduction techniques have broad applications across **finance**, **engineering**, and **scientific computing**. Below are implementations demonstrating their practical utility.\n",
    "\n",
    "#### Estimating the Price of a European Call Option"
   ]
  },
  {
   "cell_type": "code",
   "execution_count": null,
   "id": "d71eb598",
   "metadata": {},
   "outputs": [],
   "source": [
    "import numpy as np\n",
    "\n",
    "\n",
    "def monte_carlo_european_call(S0, K, T, r, sigma, num_simulations):\n",
    "    dt = T  # Single-step simulation\n",
    "    U = np.random.normal(0, 1, num_simulations // 2)  # Standard normal samples\n",
    "    V = -U  # Antithetic pairs\n",
    "\n",
    "    Z = np.concatenate((U, V))  # Combine for variance reduction\n",
    "    ST = S0 * np.exp((r - 0.5 * sigma**2) * dt + sigma * np.sqrt(dt) * Z)\n",
    "    payoff = np.maximum(ST - K, 0)\n",
    "    discounted_payoff = np.exp(-r * T) * payoff\n",
    "    return np.mean(discounted_payoff), np.std(discounted_payoff) / np.sqrt(\n",
    "        num_simulations\n",
    "    )\n",
    "\n",
    "\n",
    "# Parameters\n",
    "S0, K, T, r, sigma, num_simulations = 100, 100, 1, 0.05, 0.2, 100000\n",
    "call_price, error = monte_carlo_european_call(S0, K, T, r, sigma, num_simulations)\n",
    "print(f\"European Call Option Price: {call_price:.4f} ± {error:.4f}\")"
   ]
  },
  {
   "cell_type": "markdown",
   "id": "b04692cd",
   "metadata": {},
   "source": [
    "### Conclusion\n",
    "\n",
    "Applying **best samples**, **antithetic variables**, and **moment control techniques** significantly improves the efficiency of Monte Carlo methods. By **reducing variance**, these methods accelerate convergence, leading to **more reliable numerical solutions**.\n",
    "\n",
    "### Exercises\n",
    "\n",
    "#### Basic Implementations\n",
    "\n",
    "1. Implement a Monte Carlo estimator for **normal expectations** using antithetic variables.\n",
    "2. Compare variance reduction for **integration of $\\sin(x)$** using stratified vs. simple sampling.\n",
    "\n",
    "#### Advanced Applications\n",
    "\n",
    "1. Apply moment control techniques to estimate **European call option prices**.\n",
    "2. Modify Monte Carlo simulations for **stochastic differential equations (SDEs)** using **variance reduction methods**."
   ]
  }
 ],
 "metadata": {
  "jupytext": {
   "cell_metadata_filter": "-all",
   "main_language": "python",
   "notebook_metadata_filter": "-all"
  },
  "language_info": {
   "name": "python"
  }
 },
 "nbformat": 4,
 "nbformat_minor": 5
}
