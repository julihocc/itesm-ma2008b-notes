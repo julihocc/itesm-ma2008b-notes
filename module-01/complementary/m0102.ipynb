{
 "cells": [
  {
   "cell_type": "markdown",
   "id": "a7c824b9",
   "metadata": {},
   "source": [
    "# Numerical Analysis for Non-Linear Optimization | Module 1\n",
    "\n",
    "## Best Samples, Antithetic Variables, and Moment Control Techniques\n",
    "\n",
    "### 1. Introduction\n",
    "\n",
    "Monte Carlo methods play a fundamental role in **stochastic simulations**, **numerical optimization**, and **risk analysis**. This module explores advanced variance reduction techniques—**best samples**, **antithetic variables**, and **moment control techniques**—to enhance the efficiency and accuracy of Monte Carlo simulations.\n",
    "\n",
    "---\n",
    "\n",
    "### 2. Best Samples: Enhancing Estimation Accuracy\n",
    "\n",
    "The **best sample selection** technique improves the efficiency of Monte Carlo simulations by selecting sample points that minimize variance while maintaining unbiasedness.\n",
    "\n",
    "#### 2.1 Importance Sampling and Stratification\n",
    "\n",
    "- **Importance Sampling**: Weights samples according to their probability density to reduce variance.\n",
    "- **Stratified Sampling**: Divides the domain into strata and samples each stratum proportionally to ensure even coverage.\n",
    "\n",
    "#### 2.2 Quasi-Random Sequences\n",
    "\n",
    "- **Low-discrepancy sequences** (e.g., Sobol, Halton) generate well-spaced samples.\n",
    "- These sequences reduce **clustering** and improve integration efficiency compared to purely random samples.\n",
    "\n",
    "---\n",
    "\n",
    "### 3. Antithetic Variables: Correlation for Variance Reduction\n",
    "\n",
    "The **antithetic variable method** leverages negatively correlated sample pairs to reduce variance in Monte Carlo estimation.\n",
    "\n",
    "#### 3.1 Definition and Implementation\n",
    "\n",
    "- Instead of generating independent samples $X_1, X_2, ..., X_n$, create **correlated pairs** $(X_i, X_i^*)$ such that $X_i^*$ is designed to counteract fluctuations in $X_i$.\n",
    "- A common choice is $X_i^* = 1 - X_i$ for **uniform** distributions.\n",
    "\n",
    "#### 3.2 Example: Monte Carlo Estimation of $\\pi$"
   ]
  },
  {
   "cell_type": "code",
   "execution_count": 1,
   "id": "1e5916cf",
   "metadata": {
    "lines_to_next_cell": 0
   },
   "outputs": [
    {
     "name": "stdout",
     "output_type": "stream",
     "text": [
      "Estimated Pi: 3.139188\n"
     ]
    }
   ],
   "source": [
    "import numpy as np\n",
    "\n",
    "\n",
    "def monte_carlo_pi_antithetic(n):\n",
    "    u = np.random.random(n // 2)  # Generate half of the samples\n",
    "    v = 1 - u  # Generate antithetic pairs\n",
    "    x = np.concatenate((u, v))  # Combine samples\n",
    "    y = np.random.random(n)  # Independent Y values\n",
    "    inside_circle = (x**2 + y**2) <= 1\n",
    "    return (np.sum(inside_circle) / n) * 4\n",
    "\n",
    "\n",
    "print(\"Estimated Pi:\", monte_carlo_pi_antithetic(1000000))"
   ]
  },
  {
   "cell_type": "markdown",
   "id": "672bb003",
   "metadata": {
    "lines_to_next_cell": 0
   },
   "source": [
    "### 4. Moment Control Techniques: Detailed Explanation\n",
    "\n",
    "**Moment control techniques** are used in Monte Carlo simulations to improve the accuracy of estimates by enforcing certain statistical properties (moments) such as mean, variance, and skewness. These techniques help reduce the variability in the results, making the estimates more reliable without needing a larger number of simulations.\n",
    "\n",
    "---\n",
    "\n",
    "### 4.1 Control Variates Method\n",
    "\n",
    "#### **What Is It?**\n",
    "The **control variates method** is a powerful technique used to reduce the variance of an estimator in Monte Carlo simulations. It works by incorporating additional information from a related function (called the control variate) whose expected value is known. By adjusting the original estimate using this related function, we can achieve a more accurate estimate with lower variance.\n",
    "\n",
    "#### **How It Works:**\n",
    "1. **Original Problem:**  \n",
    "   Suppose we want to estimate the expected value of a function $f(X)$, where $X$ is a random variable. Using Monte Carlo simulation, this estimate would be:\n",
    "   ````math\n",
    "   \\hat{I}_{\\text{MC}} = \\frac{1}{n} \\sum_{i=1}^{n} f(X_i)\n",
    "   ````\n",
    "   where $X_1, X_2, \\ldots, X_n$ are random samples.\n",
    "\n",
    "2. **Introducing a Control Variate:**  \n",
    "   We select a related function $g(X)$ (the control variate) for which the expected value $E[g(X)]$ is known or can be calculated easily. For example, if $g(X)$ is a simple polynomial or linear function, its expected value may be trivial to compute.\n",
    "\n",
    "3. **Adjusted Estimator:**  \n",
    "   The adjusted Monte Carlo estimate is given by:\n",
    "   ````math\n",
    "   \\hat{I} = \\frac{1}{n} \\sum_{i=1}^{n} \\left[ f(X_i) - c \\left(g(X_i) - E[g(X)]\\right) \\right]\n",
    "   ````\n",
    "   Here, $c$ is a coefficient chosen to minimize the variance of the estimator. The idea is that if $g(X)$ is strongly correlated with $f(X)$, we can use deviations in $g(X)$ to correct the estimate of $f(X)$.\n",
    "\n",
    "4. **Finding the Optimal Coefficient $c$:**  \n",
    "   The optimal value of $c$ that minimizes the variance of $\\hat{I}$ is given by:\n",
    "   ````math\n",
    "   c^* = \\frac{\\text{Cov}(f(X), g(X))}{\\text{Var}(g(X))}\n",
    "   ````\n",
    "   This formula ensures that the variance of the adjusted estimator $\\hat{I}$ is as small as possible.\n",
    "\n",
    "---\n",
    "\n",
    "### 4.2 Example: Control Variates in Integration with Comparison to `scipy`\n",
    "\n",
    "In this updated example, we will:\n",
    "1. Use **Monte Carlo integration** with control variates.\n",
    "2. Compute the **exact estimate** using `scipy.integrate.quad`.\n",
    "3. **Compare** the Monte Carlo estimate to the `scipy` result.\n",
    "\n",
    "---\n",
    "\n",
    "#### **Python Implementation:**"
   ]
  },
  {
   "cell_type": "code",
   "execution_count": 2,
   "id": "d04ab6d1",
   "metadata": {},
   "outputs": [
    {
     "name": "stdout",
     "output_type": "stream",
     "text": [
      "Monte Carlo estimate (with control variates): 0.747473\n",
      "scipy.integrate.quad estimate (reference):    0.746824\n",
      "Absolute Error (Monte Carlo vs scipy):        0.000649\n"
     ]
    }
   ],
   "source": [
    "import numpy as np\n",
    "from scipy.integrate import quad\n",
    "\n",
    "\n",
    "# Step 1: Define the target function and control variate\n",
    "def f(x):\n",
    "    return np.exp(-(x**2))  # Function to integrate\n",
    "\n",
    "\n",
    "def g(x):\n",
    "    return 1 - x**2  # Control variate with known expected value E[g(x)] = 2/3\n",
    "\n",
    "\n",
    "# Step 2: Monte Carlo estimation with control variates\n",
    "n = 10000\n",
    "x = np.random.uniform(0, 1, n)\n",
    "f_x, g_x = f(x), g(x)\n",
    "\n",
    "# Compute the optimal coefficient c\n",
    "c_optimal = -np.cov(f_x, g_x)[0, 1] / np.var(g_x)\n",
    "\n",
    "# Compute the adjusted Monte Carlo estimate\n",
    "I_hat_monte_carlo = np.mean(f_x + c_optimal * (g_x - np.mean(g_x)))\n",
    "\n",
    "# Step 3: Compute the reference solution using scipy's quad\n",
    "I_exact, _ = quad(\n",
    "    f, 0, 1\n",
    ")  # quad returns the integral and an estimate of the absolute error\n",
    "\n",
    "# Step 4: Display results and comparison\n",
    "print(f\"Monte Carlo estimate (with control variates): {I_hat_monte_carlo:.6f}\")\n",
    "print(f\"scipy.integrate.quad estimate (reference):    {I_exact:.6f}\")\n",
    "print(\n",
    "    f\"Absolute Error (Monte Carlo vs scipy):        {abs(I_hat_monte_carlo - I_exact):.6f}\"\n",
    ")"
   ]
  },
  {
   "cell_type": "markdown",
   "id": "e21823fe",
   "metadata": {},
   "source": [
    "---\n",
    "\n",
    "#### **Explanation:**\n",
    "1. **Monte Carlo with Control Variates:**  \n",
    "   - We use random sampling to estimate the integral.\n",
    "   - The control variate $g(x)$ reduces variance in the Monte Carlo estimate.\n",
    "   - The coefficient $c$ is calculated to minimize variance.\n",
    "\n",
    "2. **Scipy's `quad` Method:**  \n",
    "   - `scipy.integrate.quad` uses adaptive quadrature, providing highly accurate results.\n",
    "   - The result from `quad` serves as a benchmark for the Monte Carlo estimate.\n",
    "\n",
    "3. **Error Comparison:**  \n",
    "   - We compute the absolute error between the Monte Carlo and `quad` estimates to assess accuracy.\n",
    "\n",
    "---\n",
    "\n",
    "#### **Key Insights:**\n",
    "- The **Monte Carlo estimate with control variates** is very close to the highly accurate **`scipy` estimate**, showing that variance reduction techniques significantly improve the accuracy of stochastic methods.  \n",
    "- The **small absolute error** demonstrates the effectiveness of control variates in reducing variance with a moderate number of samples ($n = 10,000$).  \n",
    "- **`scipy.integrate.quad`** remains the best choice for deterministic integration when the function is well-behaved, but **Monte Carlo methods** are preferred for high-dimensional problems or when deterministic methods are computationally expensive.\n",
    "\n",
    "---\n",
    "\n",
    "### 5. Applications in Monte Carlo Simulations\n",
    "\n",
    "These variance reduction techniques have broad applications across **finance**, **engineering**, and **scientific computing**. Below are implementations demonstrating their practical utility.\n",
    "\n",
    "#### 5.1 Estimating the Price of a European Call Option"
   ]
  },
  {
   "cell_type": "code",
   "execution_count": 3,
   "id": "7da02cc8",
   "metadata": {},
   "outputs": [
    {
     "name": "stdout",
     "output_type": "stream",
     "text": [
      "European Call Option Price: 10.4778 ± 0.0464\n"
     ]
    }
   ],
   "source": [
    "import numpy as np\n",
    "\n",
    "\n",
    "def monte_carlo_european_call(S0, K, T, r, sigma, num_simulations):\n",
    "    dt = T  # Single-step simulation\n",
    "    U = np.random.normal(0, 1, num_simulations // 2)  # Standard normal samples\n",
    "    V = -U  # Antithetic pairs\n",
    "\n",
    "    Z = np.concatenate((U, V))  # Combine for variance reduction\n",
    "    ST = S0 * np.exp((r - 0.5 * sigma**2) * dt + sigma * np.sqrt(dt) * Z)\n",
    "    payoff = np.maximum(ST - K, 0)\n",
    "    discounted_payoff = np.exp(-r * T) * payoff\n",
    "    return np.mean(discounted_payoff), np.std(discounted_payoff) / np.sqrt(\n",
    "        num_simulations\n",
    "    )\n",
    "\n",
    "\n",
    "# Parameters\n",
    "S0, K, T, r, sigma, num_simulations = 100, 100, 1, 0.05, 0.2, 100000\n",
    "call_price, error = monte_carlo_european_call(S0, K, T, r, sigma, num_simulations)\n",
    "print(f\"European Call Option Price: {call_price:.4f} ± {error:.4f}\")"
   ]
  },
  {
   "cell_type": "markdown",
   "id": "23fb9a6e",
   "metadata": {},
   "source": [
    "#### 5.2 Risk Analysis: Estimating Value at Risk (VaR)"
   ]
  },
  {
   "cell_type": "code",
   "execution_count": 4,
   "id": "49db2069",
   "metadata": {},
   "outputs": [
    {
     "name": "stdout",
     "output_type": "stream",
     "text": [
      "Estimated 95% Value at Risk (VaR): $-458,860.50\n"
     ]
    }
   ],
   "source": [
    "import scipy.stats as stats\n",
    "\n",
    "\n",
    "def monte_carlo_var(initial_value, mu, sigma, T, alpha, num_simulations):\n",
    "    dt = T\n",
    "    Z = np.random.normal(0, 1, num_simulations)\n",
    "    ST = initial_value * np.exp((mu - 0.5 * sigma**2) * dt + sigma * np.sqrt(dt) * Z)\n",
    "    losses = initial_value - ST\n",
    "    var_estimate = np.percentile(losses, 100 * (1 - alpha))\n",
    "    return var_estimate\n",
    "\n",
    "\n",
    "var_value = monte_carlo_var(1_000_000, 0.07, 0.2, 1, 0.95, 100000)\n",
    "print(f\"Estimated 95% Value at Risk (VaR): ${var_value:,.2f}\")"
   ]
  },
  {
   "cell_type": "markdown",
   "id": "6ad43114",
   "metadata": {},
   "source": [
    "#### 5.3 Path Simulation in Stochastic Differential Equations"
   ]
  },
  {
   "cell_type": "code",
   "execution_count": 5,
   "id": "49c7c188",
   "metadata": {},
   "outputs": [
    {
     "data": {
      "image/png": "[encoded data removed]",
      "text/plain": [
       "<Figure size 640x480 with 1 Axes>"
      ]
     },
     "metadata": {},
     "output_type": "display_data"
    }
   ],
   "source": [
    "import matplotlib.pyplot as plt\n",
    "\n",
    "\n",
    "def simulate_gbm(S0, mu, sigma, T, N):\n",
    "    dt = T / N\n",
    "    t = np.linspace(0, T, N)\n",
    "    W = np.cumsum(np.random.randn(N) * np.sqrt(dt))  # Wiener process\n",
    "    S = S0 * np.exp((mu - 0.5 * sigma**2) * t + sigma * W)\n",
    "    return t, S\n",
    "\n",
    "\n",
    "t, S = simulate_gbm(100, 0.05, 0.2, 1, 252)\n",
    "plt.plot(t, S, label=\"GBM Path\")\n",
    "plt.xlabel(\"Time\")\n",
    "plt.ylabel(\"Stock Price\")\n",
    "plt.title(\"Simulated Geometric Brownian Motion\")\n",
    "plt.legend()\n",
    "plt.show()"
   ]
  },
  {
   "cell_type": "markdown",
   "id": "0de0f9e6",
   "metadata": {},
   "source": [
    "### 6. Conclusion\n",
    "\n",
    "Applying **best samples**, **antithetic variables**, and **moment control techniques** significantly improves the efficiency of Monte Carlo methods. By **reducing variance**, these methods accelerate convergence, leading to **more reliable numerical solutions**.\n",
    "\n",
    "### 7. Exercises\n",
    "\n",
    "#### Basic Implementations\n",
    "\n",
    "1. Implement a Monte Carlo estimator for **normal expectations** using antithetic variables.\n",
    "2. Compare variance reduction for **integration of $\\sin(x)$** using stratified vs. simple sampling.\n",
    "\n",
    "#### Advanced Applications\n",
    "\n",
    "1. Apply moment control techniques to estimate **European call option prices**.\n",
    "2. Modify Monte Carlo simulations for **stochastic differential equations (SDEs)** using **variance reduction methods**."
   ]
  }
 ],
 "metadata": {
  "jupytext": {
   "cell_metadata_filter": "-all",
   "main_language": "python",
   "notebook_metadata_filter": "-all"
  },
  "kernelspec": {
   "display_name": ".venv",
   "language": "python",
   "name": "python3"
  },
  "language_info": {
   "name": "python",
   "version": "3.10.12"
  }
 },
 "nbformat": 4,
 "nbformat_minor": 5
}
